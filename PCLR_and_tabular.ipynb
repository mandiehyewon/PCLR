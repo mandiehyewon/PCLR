{
 "cells": [
  {
   "cell_type": "markdown",
   "metadata": {},
   "source": [
    "# Outline\n",
    "\n",
    "- Test to see whether PCLR representations and the extra tabular features can boost predictive performance with a linear model\n",
    "- Try out: \n",
    "    - PCLR alone\n",
    "    - PCLR + age, sex, creat, bnp\n",
    "- For ease of comparison, filter for data that has all things available "
   ]
  },
  {
   "cell_type": "code",
   "execution_count": 29,
   "metadata": {},
   "outputs": [],
   "source": [
    "import numpy as np\n",
    "import pandas as pd\n",
    "import os\n",
    "%matplotlib inline\n",
    "import matplotlib.pyplot as plt\n",
    "import datetime"
   ]
  },
  {
   "cell_type": "markdown",
   "metadata": {},
   "source": [
    "# Data loading"
   ]
  },
  {
   "cell_type": "markdown",
   "metadata": {},
   "source": [
    "## Load in the main table"
   ]
  },
  {
   "cell_type": "code",
   "execution_count": 3,
   "metadata": {},
   "outputs": [],
   "source": [
    "tab = '/storage/shared/apollo/same-day/tabular_data.csv'\n",
    "df_tab = pd.read_csv(tab)\n",
    "df_tab = df_tab.dropna(subset=['CO'])"
   ]
  },
  {
   "cell_type": "markdown",
   "metadata": {},
   "source": [
    "## Load in creat and BNP tables"
   ]
  },
  {
   "cell_type": "code",
   "execution_count": 4,
   "metadata": {},
   "outputs": [],
   "source": [
    "df_creat = pd.read_csv('../creat_processed.csv')\n",
    "df_bnp = pd.read_csv('../bnp_processed.csv')"
   ]
  },
  {
   "cell_type": "markdown",
   "metadata": {},
   "source": [
    "## Load in PCLR reprs"
   ]
  },
  {
   "cell_type": "code",
   "execution_count": 10,
   "metadata": {},
   "outputs": [],
   "source": [
    "# NOTE: these have the same dimensionality/key mapping as df_tab\n",
    "pclr_reprs = np.load('pclr.npy')"
   ]
  },
  {
   "cell_type": "markdown",
   "metadata": {},
   "source": [
    "## Make a new set of idxs and df that contains labs within 2 wks before cath"
   ]
  },
  {
   "cell_type": "markdown",
   "metadata": {},
   "source": [
    "A todo here is to extend this to store the LATEST lab result for all patient and also the time when it was obtained. "
   ]
  },
  {
   "cell_type": "code",
   "execution_count": 711,
   "metadata": {},
   "outputs": [],
   "source": [
    "TIMETHRESH = np.inf"
   ]
  },
  {
   "cell_type": "code",
   "execution_count": 712,
   "metadata": {},
   "outputs": [],
   "source": [
    "df_creat_2wks = df_creat.loc[df_creat['Delta']<TIMETHRESH]\n",
    "df_creat_2wks = df_creat_2wks.loc[df_creat_2wks['Delta']>=0]"
   ]
  },
  {
   "cell_type": "code",
   "execution_count": 713,
   "metadata": {},
   "outputs": [],
   "source": [
    "df_bnp_2wks = df_bnp.loc[df_bnp['Delta']<TIMETHRESH]\n",
    "df_bnp_2wks = df_bnp_2wks.loc[df_bnp_2wks['Delta']>=0]"
   ]
  },
  {
   "cell_type": "code",
   "execution_count": 714,
   "metadata": {},
   "outputs": [
    {
     "data": {
      "text/html": [
       "<div>\n",
       "<style scoped>\n",
       "    .dataframe tbody tr th:only-of-type {\n",
       "        vertical-align: middle;\n",
       "    }\n",
       "\n",
       "    .dataframe tbody tr th {\n",
       "        vertical-align: top;\n",
       "    }\n",
       "\n",
       "    .dataframe thead th {\n",
       "        text-align: right;\n",
       "    }\n",
       "</style>\n",
       "<table border=\"1\" class=\"dataframe\">\n",
       "  <thead>\n",
       "    <tr style=\"text-align: right;\">\n",
       "      <th></th>\n",
       "      <th>idx</th>\n",
       "      <th>QuantaID</th>\n",
       "      <th>Date_of_Cath</th>\n",
       "      <th>Creatinine</th>\n",
       "      <th>CO</th>\n",
       "      <th>PCWP_mean</th>\n",
       "      <th>Delta</th>\n",
       "    </tr>\n",
       "  </thead>\n",
       "  <tbody>\n",
       "    <tr>\n",
       "      <th>0</th>\n",
       "      <td>1</td>\n",
       "      <td>1398820</td>\n",
       "      <td>2016-08-19</td>\n",
       "      <td>4.18</td>\n",
       "      <td>4.10</td>\n",
       "      <td>26.0</td>\n",
       "      <td>0</td>\n",
       "    </tr>\n",
       "    <tr>\n",
       "      <th>1</th>\n",
       "      <td>1</td>\n",
       "      <td>1654372</td>\n",
       "      <td>2010-06-04</td>\n",
       "      <td>0.99</td>\n",
       "      <td>2.77</td>\n",
       "      <td>23.0</td>\n",
       "      <td>0</td>\n",
       "    </tr>\n",
       "    <tr>\n",
       "      <th>2</th>\n",
       "      <td>1</td>\n",
       "      <td>303155</td>\n",
       "      <td>2010-03-18</td>\n",
       "      <td>1.49</td>\n",
       "      <td>4.17</td>\n",
       "      <td>9.0</td>\n",
       "      <td>0</td>\n",
       "    </tr>\n",
       "    <tr>\n",
       "      <th>3</th>\n",
       "      <td>1</td>\n",
       "      <td>303155</td>\n",
       "      <td>2010-03-25</td>\n",
       "      <td>1.50</td>\n",
       "      <td>3.61</td>\n",
       "      <td>13.0</td>\n",
       "      <td>0</td>\n",
       "    </tr>\n",
       "    <tr>\n",
       "      <th>4</th>\n",
       "      <td>1</td>\n",
       "      <td>1092577</td>\n",
       "      <td>2011-07-12</td>\n",
       "      <td>0.91</td>\n",
       "      <td>7.73</td>\n",
       "      <td>19.0</td>\n",
       "      <td>0</td>\n",
       "    </tr>\n",
       "    <tr>\n",
       "      <th>...</th>\n",
       "      <td>...</td>\n",
       "      <td>...</td>\n",
       "      <td>...</td>\n",
       "      <td>...</td>\n",
       "      <td>...</td>\n",
       "      <td>...</td>\n",
       "      <td>...</td>\n",
       "    </tr>\n",
       "    <tr>\n",
       "      <th>6234</th>\n",
       "      <td>1</td>\n",
       "      <td>168424</td>\n",
       "      <td>2019-11-01</td>\n",
       "      <td>1.02</td>\n",
       "      <td>5.05</td>\n",
       "      <td>6.0</td>\n",
       "      <td>0</td>\n",
       "    </tr>\n",
       "    <tr>\n",
       "      <th>6235</th>\n",
       "      <td>1</td>\n",
       "      <td>562848</td>\n",
       "      <td>2020-02-13</td>\n",
       "      <td>0.99</td>\n",
       "      <td>5.30</td>\n",
       "      <td>18.0</td>\n",
       "      <td>0</td>\n",
       "    </tr>\n",
       "    <tr>\n",
       "      <th>6236</th>\n",
       "      <td>1</td>\n",
       "      <td>713398</td>\n",
       "      <td>2020-01-22</td>\n",
       "      <td>2.79</td>\n",
       "      <td>4.20</td>\n",
       "      <td>9.0</td>\n",
       "      <td>0</td>\n",
       "    </tr>\n",
       "    <tr>\n",
       "      <th>6237</th>\n",
       "      <td>1</td>\n",
       "      <td>884037</td>\n",
       "      <td>2020-01-23</td>\n",
       "      <td>0.67</td>\n",
       "      <td>3.00</td>\n",
       "      <td>9.0</td>\n",
       "      <td>0</td>\n",
       "    </tr>\n",
       "    <tr>\n",
       "      <th>6238</th>\n",
       "      <td>1</td>\n",
       "      <td>884037</td>\n",
       "      <td>2020-02-11</td>\n",
       "      <td>0.62</td>\n",
       "      <td>5.03</td>\n",
       "      <td>13.0</td>\n",
       "      <td>0</td>\n",
       "    </tr>\n",
       "  </tbody>\n",
       "</table>\n",
       "<p>6047 rows × 7 columns</p>\n",
       "</div>"
      ],
      "text/plain": [
       "      idx  QuantaID Date_of_Cath  Creatinine    CO  PCWP_mean  Delta\n",
       "0       1   1398820   2016-08-19        4.18  4.10       26.0      0\n",
       "1       1   1654372   2010-06-04        0.99  2.77       23.0      0\n",
       "2       1    303155   2010-03-18        1.49  4.17        9.0      0\n",
       "3       1    303155   2010-03-25        1.50  3.61       13.0      0\n",
       "4       1   1092577   2011-07-12        0.91  7.73       19.0      0\n",
       "...   ...       ...          ...         ...   ...        ...    ...\n",
       "6234    1    168424   2019-11-01        1.02  5.05        6.0      0\n",
       "6235    1    562848   2020-02-13        0.99  5.30       18.0      0\n",
       "6236    1    713398   2020-01-22        2.79  4.20        9.0      0\n",
       "6237    1    884037   2020-01-23        0.67  3.00        9.0      0\n",
       "6238    1    884037   2020-02-11        0.62  5.03       13.0      0\n",
       "\n",
       "[6047 rows x 7 columns]"
      ]
     },
     "execution_count": 714,
     "metadata": {},
     "output_type": "execute_result"
    }
   ],
   "source": [
    "df_creat_2wks"
   ]
  },
  {
   "cell_type": "code",
   "execution_count": 715,
   "metadata": {},
   "outputs": [
    {
     "data": {
      "text/html": [
       "<div>\n",
       "<style scoped>\n",
       "    .dataframe tbody tr th:only-of-type {\n",
       "        vertical-align: middle;\n",
       "    }\n",
       "\n",
       "    .dataframe tbody tr th {\n",
       "        vertical-align: top;\n",
       "    }\n",
       "\n",
       "    .dataframe thead th {\n",
       "        text-align: right;\n",
       "    }\n",
       "</style>\n",
       "<table border=\"1\" class=\"dataframe\">\n",
       "  <thead>\n",
       "    <tr style=\"text-align: right;\">\n",
       "      <th></th>\n",
       "      <th>idx</th>\n",
       "      <th>QuantaID</th>\n",
       "      <th>Date_of_Cath</th>\n",
       "      <th>NTProBNP</th>\n",
       "      <th>CO</th>\n",
       "      <th>PCWP_mean</th>\n",
       "      <th>Delta</th>\n",
       "    </tr>\n",
       "  </thead>\n",
       "  <tbody>\n",
       "    <tr>\n",
       "      <th>0</th>\n",
       "      <td>3</td>\n",
       "      <td>1398820</td>\n",
       "      <td>2016-08-19</td>\n",
       "      <td>7986.0</td>\n",
       "      <td>4.10</td>\n",
       "      <td>26.0</td>\n",
       "      <td>136</td>\n",
       "    </tr>\n",
       "    <tr>\n",
       "      <th>1</th>\n",
       "      <td>1</td>\n",
       "      <td>1654372</td>\n",
       "      <td>2010-06-04</td>\n",
       "      <td>17914.0</td>\n",
       "      <td>2.77</td>\n",
       "      <td>23.0</td>\n",
       "      <td>1</td>\n",
       "    </tr>\n",
       "    <tr>\n",
       "      <th>2</th>\n",
       "      <td>1</td>\n",
       "      <td>303155</td>\n",
       "      <td>2010-03-18</td>\n",
       "      <td>4376.0</td>\n",
       "      <td>4.17</td>\n",
       "      <td>9.0</td>\n",
       "      <td>0</td>\n",
       "    </tr>\n",
       "    <tr>\n",
       "      <th>3</th>\n",
       "      <td>1</td>\n",
       "      <td>303155</td>\n",
       "      <td>2010-03-25</td>\n",
       "      <td>8418.0</td>\n",
       "      <td>3.61</td>\n",
       "      <td>13.0</td>\n",
       "      <td>2</td>\n",
       "    </tr>\n",
       "    <tr>\n",
       "      <th>6</th>\n",
       "      <td>1</td>\n",
       "      <td>314037</td>\n",
       "      <td>2017-12-29</td>\n",
       "      <td>3773.0</td>\n",
       "      <td>2.70</td>\n",
       "      <td>14.0</td>\n",
       "      <td>4</td>\n",
       "    </tr>\n",
       "    <tr>\n",
       "      <th>...</th>\n",
       "      <td>...</td>\n",
       "      <td>...</td>\n",
       "      <td>...</td>\n",
       "      <td>...</td>\n",
       "      <td>...</td>\n",
       "      <td>...</td>\n",
       "      <td>...</td>\n",
       "    </tr>\n",
       "    <tr>\n",
       "      <th>5033</th>\n",
       "      <td>1</td>\n",
       "      <td>304392</td>\n",
       "      <td>2019-03-06</td>\n",
       "      <td>2830.0</td>\n",
       "      <td>4.13</td>\n",
       "      <td>35.0</td>\n",
       "      <td>3</td>\n",
       "    </tr>\n",
       "    <tr>\n",
       "      <th>5035</th>\n",
       "      <td>1</td>\n",
       "      <td>1261260</td>\n",
       "      <td>2019-03-27</td>\n",
       "      <td>4981.0</td>\n",
       "      <td>1.55</td>\n",
       "      <td>24.0</td>\n",
       "      <td>0</td>\n",
       "    </tr>\n",
       "    <tr>\n",
       "      <th>5036</th>\n",
       "      <td>2</td>\n",
       "      <td>168424</td>\n",
       "      <td>2019-09-30</td>\n",
       "      <td>3675.0</td>\n",
       "      <td>2.95</td>\n",
       "      <td>32.0</td>\n",
       "      <td>32</td>\n",
       "    </tr>\n",
       "    <tr>\n",
       "      <th>5037</th>\n",
       "      <td>2</td>\n",
       "      <td>168424</td>\n",
       "      <td>2019-10-17</td>\n",
       "      <td>3675.0</td>\n",
       "      <td>3.35</td>\n",
       "      <td>20.0</td>\n",
       "      <td>49</td>\n",
       "    </tr>\n",
       "    <tr>\n",
       "      <th>5038</th>\n",
       "      <td>2</td>\n",
       "      <td>168424</td>\n",
       "      <td>2019-11-01</td>\n",
       "      <td>3675.0</td>\n",
       "      <td>5.05</td>\n",
       "      <td>6.0</td>\n",
       "      <td>64</td>\n",
       "    </tr>\n",
       "  </tbody>\n",
       "</table>\n",
       "<p>4117 rows × 7 columns</p>\n",
       "</div>"
      ],
      "text/plain": [
       "      idx  QuantaID Date_of_Cath  NTProBNP    CO  PCWP_mean  Delta\n",
       "0       3   1398820   2016-08-19    7986.0  4.10       26.0    136\n",
       "1       1   1654372   2010-06-04   17914.0  2.77       23.0      1\n",
       "2       1    303155   2010-03-18    4376.0  4.17        9.0      0\n",
       "3       1    303155   2010-03-25    8418.0  3.61       13.0      2\n",
       "6       1    314037   2017-12-29    3773.0  2.70       14.0      4\n",
       "...   ...       ...          ...       ...   ...        ...    ...\n",
       "5033    1    304392   2019-03-06    2830.0  4.13       35.0      3\n",
       "5035    1   1261260   2019-03-27    4981.0  1.55       24.0      0\n",
       "5036    2    168424   2019-09-30    3675.0  2.95       32.0     32\n",
       "5037    2    168424   2019-10-17    3675.0  3.35       20.0     49\n",
       "5038    2    168424   2019-11-01    3675.0  5.05        6.0     64\n",
       "\n",
       "[4117 rows x 7 columns]"
      ]
     },
     "execution_count": 715,
     "metadata": {},
     "output_type": "execute_result"
    }
   ],
   "source": [
    "df_bnp_2wks"
   ]
  },
  {
   "cell_type": "code",
   "execution_count": 716,
   "metadata": {},
   "outputs": [],
   "source": [
    "df_pclr_lookup = df_tab[['QuantaID', 'Date_of_Cath']]\n",
    "df_pclr_lookup.insert(0, 'PCLR_index', list(range(len(df_pclr_lookup))))"
   ]
  },
  {
   "cell_type": "code",
   "execution_count": 717,
   "metadata": {},
   "outputs": [],
   "source": [
    "df_final = df_tab.copy()\n",
    "df_final['NTProBNP'] = np.nan\n",
    "df_final['Creatinine'] = np.nan\n",
    "df_final['NTProBNPDelta'] = np.nan\n",
    "df_final['CreatinineDelta'] = np.nan\n",
    "df_final['PCLR_index'] = list(range(len(df_pclr_lookup)))"
   ]
  },
  {
   "cell_type": "code",
   "execution_count": 718,
   "metadata": {},
   "outputs": [],
   "source": [
    "# For each row in df_final, find the relevant creat and bnp value and store them if they are available\n",
    "for i in df_final.index:\n",
    "    apollo_row = df_final.loc[i]\n",
    "    qid = apollo_row['QuantaID']\n",
    "    co = apollo_row['CO']\n",
    "    pcwp = apollo_row['PCWP_mean']\n",
    "    doc = apollo_row['Date_of_Cath']\n",
    "#     doc_proc = datetime.strptime(doc, '%Y-%m-%d')\n",
    "\n",
    "    aux_df = df_bnp_2wks[df_bnp_2wks['QuantaID'] == qid]\n",
    "    aux_df = aux_df[aux_df['Date_of_Cath'] == doc]\n",
    "#     print(aux_df)\n",
    "    if len(aux_df) > 0 :\n",
    "#         print(aux_df)\n",
    "        for j in aux_df.index:\n",
    "            bnp_row = aux_df.loc[j]\n",
    "            bnp_value = float(bnp_row['NTProBNP'])\n",
    "            bnp_delta = float(bnp_row['Delta'])\n",
    "            df_final.loc[i, 'NTProBNP'] = bnp_value\n",
    "            df_final.loc[i, 'NTProBNPDelta'] = bnp_delta\n",
    "            break\n",
    "\n",
    "    aux_df = df_creat_2wks[df_creat_2wks['QuantaID'] == qid]\n",
    "    aux_df = aux_df[aux_df['Date_of_Cath'] == doc]\n",
    "#     print(aux_df)\n",
    "    if len(aux_df) > 0 :\n",
    "        for j in aux_df.index:\n",
    "            creat_row = aux_df.loc[j]\n",
    "            creat_value = float(creat_row['Creatinine'])\n",
    "            creat_delta = float(creat_row['Delta'])\n",
    "            df_final.loc[i, 'Creatinine'] = creat_value\n",
    "            df_final.loc[i, 'CreatinineDelta'] = creat_delta\n",
    "            break    \n",
    "    "
   ]
  },
  {
   "cell_type": "code",
   "execution_count": 719,
   "metadata": {},
   "outputs": [],
   "source": [
    "df_final_2wks = df_final.dropna(subset=['NTProBNP', 'Creatinine'])"
   ]
  },
  {
   "cell_type": "code",
   "execution_count": 720,
   "metadata": {
    "scrolled": true
   },
   "outputs": [
    {
     "data": {
      "text/plain": [
       "(4112, 2512)"
      ]
     },
     "execution_count": 720,
     "metadata": {},
     "output_type": "execute_result"
    }
   ],
   "source": [
    "len(df_final_2wks), len(df_final_2wks['QuantaID'].unique())"
   ]
  },
  {
   "cell_type": "markdown",
   "metadata": {},
   "source": [
    "## Prepare 2wk window data into feature arrays and preprocess"
   ]
  },
  {
   "cell_type": "code",
   "execution_count": 721,
   "metadata": {},
   "outputs": [
    {
     "data": {
      "text/html": [
       "<div>\n",
       "<style scoped>\n",
       "    .dataframe tbody tr th:only-of-type {\n",
       "        vertical-align: middle;\n",
       "    }\n",
       "\n",
       "    .dataframe tbody tr th {\n",
       "        vertical-align: top;\n",
       "    }\n",
       "\n",
       "    .dataframe thead th {\n",
       "        text-align: right;\n",
       "    }\n",
       "</style>\n",
       "<table border=\"1\" class=\"dataframe\">\n",
       "  <thead>\n",
       "    <tr style=\"text-align: right;\">\n",
       "      <th></th>\n",
       "      <th>Unnamed: 0</th>\n",
       "      <th>QuantaID</th>\n",
       "      <th>Date_of_Cath</th>\n",
       "      <th>Age_at_Cath</th>\n",
       "      <th>Sex</th>\n",
       "      <th>PAP_sys</th>\n",
       "      <th>PAP_dia</th>\n",
       "      <th>PAP_mean</th>\n",
       "      <th>PCWP_sys</th>\n",
       "      <th>PCWP_dia</th>\n",
       "      <th>PCWP_mean</th>\n",
       "      <th>CO</th>\n",
       "      <th>PVR</th>\n",
       "      <th>Admit_Diag</th>\n",
       "      <th>NTProBNP</th>\n",
       "      <th>Creatinine</th>\n",
       "      <th>NTProBNPDelta</th>\n",
       "      <th>CreatinineDelta</th>\n",
       "      <th>PCLR_index</th>\n",
       "    </tr>\n",
       "  </thead>\n",
       "  <tbody>\n",
       "    <tr>\n",
       "      <th>0</th>\n",
       "      <td>1</td>\n",
       "      <td>1398820</td>\n",
       "      <td>2016-08-19</td>\n",
       "      <td>80</td>\n",
       "      <td>True</td>\n",
       "      <td>53.0</td>\n",
       "      <td>31.0</td>\n",
       "      <td>38.0</td>\n",
       "      <td>29.0</td>\n",
       "      <td>33.0</td>\n",
       "      <td>26.0</td>\n",
       "      <td>4.10</td>\n",
       "      <td>2.926829</td>\n",
       "      <td>['Acute ischemic heart disease, unspecified', ...</td>\n",
       "      <td>7986.0</td>\n",
       "      <td>4.18</td>\n",
       "      <td>136.0</td>\n",
       "      <td>0.0</td>\n",
       "      <td>0</td>\n",
       "    </tr>\n",
       "    <tr>\n",
       "      <th>1</th>\n",
       "      <td>4</td>\n",
       "      <td>1654372</td>\n",
       "      <td>2010-06-04</td>\n",
       "      <td>87</td>\n",
       "      <td>False</td>\n",
       "      <td>49.0</td>\n",
       "      <td>25.0</td>\n",
       "      <td>34.0</td>\n",
       "      <td>26.0</td>\n",
       "      <td>25.0</td>\n",
       "      <td>23.0</td>\n",
       "      <td>2.77</td>\n",
       "      <td>3.971119</td>\n",
       "      <td>['Acute systolic heart failure']</td>\n",
       "      <td>17914.0</td>\n",
       "      <td>0.99</td>\n",
       "      <td>1.0</td>\n",
       "      <td>0.0</td>\n",
       "      <td>1</td>\n",
       "    </tr>\n",
       "    <tr>\n",
       "      <th>2</th>\n",
       "      <td>8</td>\n",
       "      <td>303155</td>\n",
       "      <td>2010-03-18</td>\n",
       "      <td>86</td>\n",
       "      <td>True</td>\n",
       "      <td>26.0</td>\n",
       "      <td>9.0</td>\n",
       "      <td>14.0</td>\n",
       "      <td>NaN</td>\n",
       "      <td>15.0</td>\n",
       "      <td>9.0</td>\n",
       "      <td>4.17</td>\n",
       "      <td>1.199041</td>\n",
       "      <td>['SEMI initial episode of care', 'CAD of vein ...</td>\n",
       "      <td>4376.0</td>\n",
       "      <td>1.49</td>\n",
       "      <td>0.0</td>\n",
       "      <td>0.0</td>\n",
       "      <td>2</td>\n",
       "    </tr>\n",
       "    <tr>\n",
       "      <th>3</th>\n",
       "      <td>9</td>\n",
       "      <td>303155</td>\n",
       "      <td>2010-03-25</td>\n",
       "      <td>86</td>\n",
       "      <td>True</td>\n",
       "      <td>29.0</td>\n",
       "      <td>8.0</td>\n",
       "      <td>17.0</td>\n",
       "      <td>NaN</td>\n",
       "      <td>15.0</td>\n",
       "      <td>13.0</td>\n",
       "      <td>3.61</td>\n",
       "      <td>1.108033</td>\n",
       "      <td>['Atherosclerosis of Renal Artery', 'Aortic st...</td>\n",
       "      <td>8418.0</td>\n",
       "      <td>1.50</td>\n",
       "      <td>2.0</td>\n",
       "      <td>0.0</td>\n",
       "      <td>3</td>\n",
       "    </tr>\n",
       "    <tr>\n",
       "      <th>6</th>\n",
       "      <td>15</td>\n",
       "      <td>314037</td>\n",
       "      <td>2017-12-29</td>\n",
       "      <td>82</td>\n",
       "      <td>True</td>\n",
       "      <td>47.0</td>\n",
       "      <td>16.0</td>\n",
       "      <td>29.0</td>\n",
       "      <td>21.0</td>\n",
       "      <td>13.0</td>\n",
       "      <td>14.0</td>\n",
       "      <td>2.70</td>\n",
       "      <td>5.555556</td>\n",
       "      <td>['Chronic diastolic (congestive) heart failure']</td>\n",
       "      <td>3773.0</td>\n",
       "      <td>1.90</td>\n",
       "      <td>4.0</td>\n",
       "      <td>0.0</td>\n",
       "      <td>6</td>\n",
       "    </tr>\n",
       "  </tbody>\n",
       "</table>\n",
       "</div>"
      ],
      "text/plain": [
       "   Unnamed: 0  QuantaID Date_of_Cath  Age_at_Cath    Sex  PAP_sys  PAP_dia  \\\n",
       "0           1   1398820   2016-08-19           80   True     53.0     31.0   \n",
       "1           4   1654372   2010-06-04           87  False     49.0     25.0   \n",
       "2           8    303155   2010-03-18           86   True     26.0      9.0   \n",
       "3           9    303155   2010-03-25           86   True     29.0      8.0   \n",
       "6          15    314037   2017-12-29           82   True     47.0     16.0   \n",
       "\n",
       "   PAP_mean  PCWP_sys  PCWP_dia  PCWP_mean    CO       PVR  \\\n",
       "0      38.0      29.0      33.0       26.0  4.10  2.926829   \n",
       "1      34.0      26.0      25.0       23.0  2.77  3.971119   \n",
       "2      14.0       NaN      15.0        9.0  4.17  1.199041   \n",
       "3      17.0       NaN      15.0       13.0  3.61  1.108033   \n",
       "6      29.0      21.0      13.0       14.0  2.70  5.555556   \n",
       "\n",
       "                                          Admit_Diag  NTProBNP  Creatinine  \\\n",
       "0  ['Acute ischemic heart disease, unspecified', ...    7986.0        4.18   \n",
       "1                   ['Acute systolic heart failure']   17914.0        0.99   \n",
       "2  ['SEMI initial episode of care', 'CAD of vein ...    4376.0        1.49   \n",
       "3  ['Atherosclerosis of Renal Artery', 'Aortic st...    8418.0        1.50   \n",
       "6   ['Chronic diastolic (congestive) heart failure']    3773.0        1.90   \n",
       "\n",
       "   NTProBNPDelta  CreatinineDelta  PCLR_index  \n",
       "0          136.0              0.0           0  \n",
       "1            1.0              0.0           1  \n",
       "2            0.0              0.0           2  \n",
       "3            2.0              0.0           3  \n",
       "6            4.0              0.0           6  "
      ]
     },
     "execution_count": 721,
     "metadata": {},
     "output_type": "execute_result"
    }
   ],
   "source": [
    "df_final_2wks.head()"
   ]
  },
  {
   "cell_type": "code",
   "execution_count": 722,
   "metadata": {},
   "outputs": [
    {
     "data": {
      "text/plain": [
       "(0.0, 0.0)"
      ]
     },
     "execution_count": 722,
     "metadata": {},
     "output_type": "execute_result"
    }
   ],
   "source": [
    "df_final_2wks['NTProBNPDelta'].min(), df_final_2wks['CreatinineDelta'].min()"
   ]
  },
  {
   "cell_type": "markdown",
   "metadata": {},
   "source": [
    "### Train/val/test split on patient ID level"
   ]
  },
  {
   "cell_type": "code",
   "execution_count": 723,
   "metadata": {},
   "outputs": [],
   "source": [
    "uids = df_final_2wks['QuantaID'].unique()\n",
    "frac_train = 0.8\n",
    "frac_val = 0.2\n",
    "\n",
    "fold = 0\n",
    "test_start_idx = int(fold*0.2*len(uids))\n",
    "test_end_idx = int((fold+1)*0.2*len(uids))\n",
    "\n",
    "test_ids = uids[test_start_idx:test_end_idx]\n",
    "train_val_ids = [i for i in uids if i not in test_ids]\n",
    "\n",
    "TRAINVAL_END = int(1*len(train_val_ids))\n",
    "train_val_ids = train_val_ids[:TRAINVAL_END]\n",
    "\n",
    "train_ids = train_val_ids[:int(frac_train*len(train_val_ids))]\n",
    "val_ids = train_val_ids[int(frac_train*len(train_val_ids)):]\n",
    "\n",
    "train_df = df_final_2wks[df_final_2wks['QuantaID'].isin(train_ids)]\n",
    "val_df = df_final_2wks[df_final_2wks['QuantaID'].isin(val_ids)]\n",
    "test_df = df_final_2wks[df_final_2wks['QuantaID'].isin(test_ids)]"
   ]
  },
  {
   "cell_type": "code",
   "execution_count": 724,
   "metadata": {},
   "outputs": [],
   "source": [
    "def make_feats(df_in):\n",
    "    # Extract out the relevant features: age, sex, creat, bnp, pclr\n",
    "    age = df_in['Age_at_Cath'].values\n",
    "    sex = df_in['Sex'].astype(np.float32)\n",
    "    creat = np.log(df_in['Creatinine'].values)\n",
    "    bnp = np.log(df_in['NTProBNP'].values)\n",
    "    creatdelta = np.log(df_in['CreatinineDelta'].values+1)\n",
    "    bnpdelta = np.log(df_in['NTProBNPDelta'].values+1)\n",
    "    pclr_idxs = df_in['PCLR_index'].values\n",
    "    pclr_feats = pclr_reprs[pclr_idxs]\n",
    "    demo_stack = np.stack([age, sex, creat, bnp, creatdelta, bnpdelta], axis=1)\n",
    "    print(demo_stack.shape, pclr_feats.shape)\n",
    "    return np.concatenate([demo_stack, pclr_feats], axis=1)"
   ]
  },
  {
   "cell_type": "code",
   "execution_count": 725,
   "metadata": {},
   "outputs": [
    {
     "name": "stdout",
     "output_type": "stream",
     "text": [
      "(2846, 6) (2846, 320)\n",
      "(624, 6) (624, 320)\n",
      "(642, 6) (642, 320)\n"
     ]
    }
   ],
   "source": [
    "train_feats = make_feats(train_df)\n",
    "val_feats = make_feats(val_df)\n",
    "test_feats = make_feats(test_df)"
   ]
  },
  {
   "cell_type": "code",
   "execution_count": 726,
   "metadata": {},
   "outputs": [],
   "source": [
    "train_labels = train_df['PCWP_mean'] > 15\n",
    "val_labels = val_df['PCWP_mean'] > 15\n",
    "test_labels = test_df['PCWP_mean'] > 15"
   ]
  },
  {
   "cell_type": "code",
   "execution_count": 727,
   "metadata": {},
   "outputs": [],
   "source": [
    "train_labels_mc = np.digitize(train_df['PCWP_mean'], [10, 15, 22])\n",
    "val_labels_mc = np.digitize(val_df['PCWP_mean'], [10, 15, 22])\n",
    "test_labels_mc = np.digitize(test_df['PCWP_mean'], [10, 15, 22])"
   ]
  },
  {
   "cell_type": "markdown",
   "metadata": {},
   "source": [
    "### Normalization"
   ]
  },
  {
   "cell_type": "code",
   "execution_count": 728,
   "metadata": {},
   "outputs": [],
   "source": [
    "from sklearn.preprocessing import StandardScaler\n",
    "scaler = StandardScaler().fit(X=train_feats)\n",
    "train_X = scaler.transform(train_feats)\n",
    "val_X = scaler.transform(val_feats)\n",
    "test_X = scaler.transform(test_feats)"
   ]
  },
  {
   "cell_type": "code",
   "execution_count": 729,
   "metadata": {},
   "outputs": [
    {
     "data": {
      "text/plain": [
       "(array([ 65., 147., 214., 539., 801., 594., 384.,  98.,   3.,   1.]),\n",
       " array([-2.96676033, -2.30141227, -1.63606422, -0.97071616, -0.30536811,\n",
       "         0.35997995,  1.02532801,  1.69067606,  2.35602412,  3.02137217,\n",
       "         3.68672023]),\n",
       " <a list of 10 Patch objects>)"
      ]
     },
     "execution_count": 729,
     "metadata": {},
     "output_type": "execute_result"
    },
    {
     "data": {
      "image/png": "[encoded data removed]",
      "text/plain": [
       "<Figure size 432x288 with 1 Axes>"
      ]
     },
     "metadata": {
      "needs_background": "light"
     },
     "output_type": "display_data"
    }
   ],
   "source": [
    "plt.hist(train_X[:,0])"
   ]
  },
  {
   "cell_type": "code",
   "execution_count": 730,
   "metadata": {},
   "outputs": [
    {
     "data": {
      "text/plain": [
       "(array([ 991.,    0.,    0.,    0.,    0.,    0.,    0.,    0.,    0.,\n",
       "        1855.]),\n",
       " array([-1.36815446, -1.15824785, -0.94834124, -0.73843463, -0.52852802,\n",
       "        -0.31862142, -0.10871481,  0.1011918 ,  0.31109841,  0.52100502,\n",
       "         0.73091163]),\n",
       " <a list of 10 Patch objects>)"
      ]
     },
     "execution_count": 730,
     "metadata": {},
     "output_type": "execute_result"
    },
    {
     "data": {
      "image/png": "[encoded data removed]",
      "text/plain": [
       "<Figure size 432x288 with 1 Axes>"
      ]
     },
     "metadata": {
      "needs_background": "light"
     },
     "output_type": "display_data"
    }
   ],
   "source": [
    "plt.hist(train_X[:,1])"
   ]
  },
  {
   "cell_type": "code",
   "execution_count": 731,
   "metadata": {},
   "outputs": [
    {
     "data": {
      "text/plain": [
       "(array([   2.,   15.,  231.,  812., 1035.,  454.,  186.,   64.,   31.,\n",
       "          16.]),\n",
       " array([-3.58467843, -2.78014425, -1.97561007, -1.17107588, -0.3665417 ,\n",
       "         0.43799248,  1.24252666,  2.04706084,  2.85159503,  3.65612921,\n",
       "         4.46066339]),\n",
       " <a list of 10 Patch objects>)"
      ]
     },
     "execution_count": 731,
     "metadata": {},
     "output_type": "execute_result"
    },
    {
     "data": {
      "image/png": "[encoded data removed]",
      "text/plain": [
       "<Figure size 432x288 with 1 Axes>"
      ]
     },
     "metadata": {
      "needs_background": "light"
     },
     "output_type": "display_data"
    }
   ],
   "source": [
    "plt.hist(train_X[:,2])"
   ]
  },
  {
   "cell_type": "code",
   "execution_count": 732,
   "metadata": {},
   "outputs": [
    {
     "data": {
      "text/plain": [
       "(array([  5.,  21.,  68., 197., 524., 827., 776., 310., 108.,  10.]),\n",
       " array([-4.18121731, -3.44569976, -2.7101822 , -1.97466465, -1.23914709,\n",
       "        -0.50362954,  0.23188802,  0.96740557,  1.70292313,  2.43844068,\n",
       "         3.17395824]),\n",
       " <a list of 10 Patch objects>)"
      ]
     },
     "execution_count": 732,
     "metadata": {},
     "output_type": "execute_result"
    },
    {
     "data": {
      "image/png": "[encoded data removed]",
      "text/plain": [
       "<Figure size 432x288 with 1 Axes>"
      ]
     },
     "metadata": {
      "needs_background": "light"
     },
     "output_type": "display_data"
    }
   ],
   "source": [
    "plt.hist(train_X[:,3])"
   ]
  },
  {
   "cell_type": "code",
   "execution_count": 733,
   "metadata": {},
   "outputs": [
    {
     "data": {
      "text/plain": [
       "(array([2.436e+03, 3.300e+01, 1.430e+02, 1.040e+02, 4.500e+01, 4.300e+01,\n",
       "        2.100e+01, 1.400e+01, 5.000e+00, 2.000e+00]),\n",
       " array([-0.38407589,  0.30990709,  1.00389006,  1.69787304,  2.39185602,\n",
       "         3.085839  ,  3.77982197,  4.47380495,  5.16778793,  5.8617709 ,\n",
       "         6.55575388]),\n",
       " <a list of 10 Patch objects>)"
      ]
     },
     "execution_count": 733,
     "metadata": {},
     "output_type": "execute_result"
    },
    {
     "data": {
      "image/png": "[encoded data removed]",
      "text/plain": [
       "<Figure size 432x288 with 1 Axes>"
      ]
     },
     "metadata": {
      "needs_background": "light"
     },
     "output_type": "display_data"
    }
   ],
   "source": [
    "plt.hist(train_X[:,4])"
   ]
  },
  {
   "cell_type": "code",
   "execution_count": 734,
   "metadata": {},
   "outputs": [
    {
     "data": {
      "text/plain": [
       "(array([515., 273., 425., 247., 267., 362., 345., 260., 119.,  33.]),\n",
       " array([-1.5021033 , -1.11961312, -0.73712294, -0.35463276,  0.02785742,\n",
       "         0.4103476 ,  0.79283778,  1.17532796,  1.55781814,  1.94030832,\n",
       "         2.3227985 ]),\n",
       " <a list of 10 Patch objects>)"
      ]
     },
     "execution_count": 734,
     "metadata": {},
     "output_type": "execute_result"
    },
    {
     "data": {
      "image/png": "[encoded data removed]",
      "text/plain": [
       "<Figure size 432x288 with 1 Axes>"
      ]
     },
     "metadata": {
      "needs_background": "light"
     },
     "output_type": "display_data"
    }
   ],
   "source": [
    "plt.hist(train_X[:,5])"
   ]
  },
  {
   "cell_type": "markdown",
   "metadata": {},
   "source": [
    "# Train some models"
   ]
  },
  {
   "cell_type": "code",
   "execution_count": 735,
   "metadata": {},
   "outputs": [],
   "source": [
    "from sklearn.linear_model import LogisticRegression\n",
    "from sklearn.metrics import roc_auc_score"
   ]
  },
  {
   "cell_type": "markdown",
   "metadata": {},
   "source": [
    "### Start by fitting LR on only the ECG"
   ]
  },
  {
   "cell_type": "code",
   "execution_count": 736,
   "metadata": {},
   "outputs": [],
   "source": [
    "train_ecg = train_X[:, 6:]\n",
    "val_ecg = val_X[:, 6:]\n",
    "test_ecg = test_X[:, 6:]\n",
    "valperfs = []\n",
    "testperfs = []\n",
    "for C in [1e-5, 1e-4, 0.001, 0.005, 0.01, 0.05, 0.1, 0.5, 1.0, 5.0]:\n",
    "    lr = LogisticRegression(C=C, max_iter=200)\n",
    "    lr.fit(train_ecg, train_labels)\n",
    "    val_probs = lr.predict_proba(val_ecg)[:,1]\n",
    "    test_probs = lr.predict_proba(test_ecg)[:,1]\n",
    "    valperfs.append(roc_auc_score(val_labels, val_probs))\n",
    "    testperfs.append(roc_auc_score(test_labels, test_probs))"
   ]
  },
  {
   "cell_type": "code",
   "execution_count": 737,
   "metadata": {},
   "outputs": [
    {
     "data": {
      "text/plain": [
       "(0.722956304619226, 0.8094445427022753)"
      ]
     },
     "execution_count": 737,
     "metadata": {},
     "output_type": "execute_result"
    }
   ],
   "source": [
    "testperfs[np.argmax(valperfs)], np.max(valperfs)"
   ]
  },
  {
   "cell_type": "markdown",
   "metadata": {},
   "source": [
    "### Then fit on only tabular"
   ]
  },
  {
   "cell_type": "code",
   "execution_count": 738,
   "metadata": {},
   "outputs": [],
   "source": [
    "train_tab = train_X[:, :6]\n",
    "val_tab = val_X[:, :6]\n",
    "test_tab = test_X[:, :6]\n",
    "valperfs = []\n",
    "testperfs = []\n",
    "for C in [1e-5, 1e-4, 0.001, 0.005, 0.01, 0.05, 0.1, 0.5, 1.0, 5.0]:\n",
    "    lr = LogisticRegression(C=C, max_iter=200)\n",
    "    lr.fit(train_tab, train_labels)\n",
    "    val_probs = lr.predict_proba(val_tab)[:,1]\n",
    "    test_probs = lr.predict_proba(test_tab)[:,1]\n",
    "    valperfs.append(roc_auc_score(val_labels, val_probs))\n",
    "    testperfs.append(roc_auc_score(test_labels, test_probs))"
   ]
  },
  {
   "cell_type": "code",
   "execution_count": 739,
   "metadata": {},
   "outputs": [
    {
     "data": {
      "text/plain": [
       "(0.6899475655430712, 0.7340068040657934)"
      ]
     },
     "execution_count": 739,
     "metadata": {},
     "output_type": "execute_result"
    }
   ],
   "source": [
    "testperfs[np.argmax(valperfs)], np.max(valperfs)"
   ]
  },
  {
   "cell_type": "markdown",
   "metadata": {},
   "source": [
    "### Then fit on both"
   ]
  },
  {
   "cell_type": "code",
   "execution_count": 740,
   "metadata": {},
   "outputs": [],
   "source": [
    "valperfs = []\n",
    "testperfs = []\n",
    "for C in [1e-5, 1e-4, 0.001, 0.005, 0.01, 0.05, 0.1, 0.5, 1.0, 5.0]:\n",
    "    lr = LogisticRegression(C=C, max_iter=200)\n",
    "    lr.fit(train_X, train_labels)\n",
    "    val_probs = lr.predict_proba(val_X)[:,1]\n",
    "    test_probs = lr.predict_proba(test_X)[:,1]\n",
    "    valperfs.append(roc_auc_score(val_labels, val_probs))\n",
    "    testperfs.append(roc_auc_score(test_labels, test_probs))"
   ]
  },
  {
   "cell_type": "code",
   "execution_count": 741,
   "metadata": {},
   "outputs": [
    {
     "data": {
      "text/plain": [
       "(0.7391760299625468, 0.8046796158927996)"
      ]
     },
     "execution_count": 741,
     "metadata": {},
     "output_type": "execute_result"
    }
   ],
   "source": [
    "testperfs[np.argmax(valperfs)], np.max(valperfs)"
   ]
  },
  {
   "cell_type": "markdown",
   "metadata": {},
   "source": [
    "### Fit RF on only the ECG"
   ]
  },
  {
   "cell_type": "code",
   "execution_count": 742,
   "metadata": {},
   "outputs": [],
   "source": [
    "from sklearn.ensemble import RandomForestClassifier"
   ]
  },
  {
   "cell_type": "code",
   "execution_count": 743,
   "metadata": {},
   "outputs": [],
   "source": [
    "train_ecg = train_X[:, 6:]\n",
    "val_ecg = val_X[:, 6:]\n",
    "test_ecg = test_X[:, 6:]\n",
    "valperfs = []\n",
    "testperfs = []\n",
    "for C in [10, 50, 100, 200, 1000]:\n",
    "    lr = RandomForestClassifier(n_estimators=C, n_jobs=10)\n",
    "    lr.fit(train_ecg, train_labels)\n",
    "    val_probs = lr.predict_proba(val_ecg)[:,1]\n",
    "    test_probs = lr.predict_proba(test_ecg)[:,1]\n",
    "    valperfs.append(roc_auc_score(val_labels, val_probs))\n",
    "    testperfs.append(roc_auc_score(test_labels, test_probs))"
   ]
  },
  {
   "cell_type": "code",
   "execution_count": 744,
   "metadata": {},
   "outputs": [
    {
     "data": {
      "text/plain": [
       "(0.7350012484394507, 0.8080296299378895)"
      ]
     },
     "execution_count": 744,
     "metadata": {},
     "output_type": "execute_result"
    }
   ],
   "source": [
    "testperfs[np.argmax(valperfs)], np.max(valperfs)"
   ]
  },
  {
   "cell_type": "markdown",
   "metadata": {},
   "source": [
    "### Then fit on only tabular"
   ]
  },
  {
   "cell_type": "code",
   "execution_count": 745,
   "metadata": {},
   "outputs": [],
   "source": [
    "train_tab = train_X[:, :6]\n",
    "val_tab = val_X[:, :6]\n",
    "test_tab = test_X[:, :6]\n",
    "valperfs = []\n",
    "testperfs = []\n",
    "for C in [10, 50, 100, 200, 1000]:\n",
    "    lr = RandomForestClassifier(n_estimators=C, n_jobs=10)\n",
    "    lr.fit(train_tab, train_labels)\n",
    "    val_probs = lr.predict_proba(val_tab)[:,1]\n",
    "    test_probs = lr.predict_proba(test_tab)[:,1]\n",
    "    valperfs.append(roc_auc_score(val_labels, val_probs))\n",
    "    testperfs.append(roc_auc_score(test_labels, test_probs))"
   ]
  },
  {
   "cell_type": "code",
   "execution_count": 746,
   "metadata": {},
   "outputs": [
    {
     "data": {
      "text/plain": [
       "(0.665378277153558, 0.7043768661763022)"
      ]
     },
     "execution_count": 746,
     "metadata": {},
     "output_type": "execute_result"
    }
   ],
   "source": [
    "testperfs[np.argmax(valperfs)], np.max(valperfs)"
   ]
  },
  {
   "cell_type": "markdown",
   "metadata": {},
   "source": [
    "### Then fit on both"
   ]
  },
  {
   "cell_type": "code",
   "execution_count": 747,
   "metadata": {},
   "outputs": [],
   "source": [
    "valperfs = []\n",
    "testperfs = []\n",
    "for C in [10, 50, 100, 200, 1000]:\n",
    "    lr = RandomForestClassifier(n_estimators=C, n_jobs=10)\n",
    "    lr.fit(train_X, train_labels)\n",
    "    val_probs = lr.predict_proba(val_X)[:,1]\n",
    "    test_probs = lr.predict_proba(test_X)[:,1]\n",
    "    valperfs.append(roc_auc_score(val_labels, val_probs))\n",
    "    testperfs.append(roc_auc_score(test_labels, test_probs))"
   ]
  },
  {
   "cell_type": "code",
   "execution_count": 748,
   "metadata": {},
   "outputs": [
    {
     "data": {
      "text/plain": [
       "(0.7340774032459425, 0.8074678263402657)"
      ]
     },
     "execution_count": 748,
     "metadata": {},
     "output_type": "execute_result"
    }
   ],
   "source": [
    "testperfs[np.argmax(valperfs)], np.max(valperfs)"
   ]
  },
  {
   "cell_type": "code",
   "execution_count": null,
   "metadata": {},
   "outputs": [],
   "source": []
  },
  {
   "cell_type": "code",
   "execution_count": null,
   "metadata": {},
   "outputs": [],
   "source": []
  },
  {
   "cell_type": "markdown",
   "metadata": {},
   "source": [
    "# Multiclass models"
   ]
  },
  {
   "cell_type": "markdown",
   "metadata": {},
   "source": [
    "### Start by fitting LR on only the ECG"
   ]
  },
  {
   "cell_type": "code",
   "execution_count": 583,
   "metadata": {},
   "outputs": [],
   "source": [
    "train_ecg = train_X[:, 6:]\n",
    "val_ecg = val_X[:, 6:]\n",
    "test_ecg = test_X[:, 6:]\n",
    "valperfs = []\n",
    "testperfs = []\n",
    "for C in [1e-5, 1e-4, 0.001, 0.005, 0.01, 0.05, 0.1, 0.5, 1.0, 5.0]:\n",
    "    lr = LogisticRegression(C=C, max_iter=500)\n",
    "    lr.fit(train_ecg, train_labels_mc)\n",
    "    val_probs = lr.predict_proba(val_ecg)\n",
    "    test_probs = lr.predict_proba(test_ecg)\n",
    "    valperfs.append(roc_auc_score(val_labels_mc, val_probs,average='macro', multi_class='ovo'))\n",
    "    testperfs.append(roc_auc_score(test_labels_mc, test_probs,average='macro', multi_class='ovo'))"
   ]
  },
  {
   "cell_type": "code",
   "execution_count": 584,
   "metadata": {},
   "outputs": [
    {
     "data": {
      "text/plain": [
       "(0.6330575771160266, 0.6745658547391914)"
      ]
     },
     "execution_count": 584,
     "metadata": {},
     "output_type": "execute_result"
    }
   ],
   "source": [
    "testperfs[np.argmax(valperfs)], np.max(valperfs)"
   ]
  },
  {
   "cell_type": "markdown",
   "metadata": {},
   "source": [
    "### Then fit on only tabular"
   ]
  },
  {
   "cell_type": "code",
   "execution_count": 585,
   "metadata": {},
   "outputs": [],
   "source": [
    "train_tab = train_X[:, :6]\n",
    "val_tab = val_X[:, :6]\n",
    "test_tab = test_X[:, :6]\n",
    "valperfs = []\n",
    "testperfs = []\n",
    "for C in [1e-5, 1e-4, 0.001, 0.005, 0.01, 0.05, 0.1, 0.5, 1.0, 5.0]:\n",
    "    lr = LogisticRegression(C=C, max_iter=200)\n",
    "    lr.fit(train_tab, train_labels_mc)\n",
    "    val_probs = lr.predict_proba(val_tab)\n",
    "    test_probs = lr.predict_proba(test_tab)\n",
    "    valperfs.append(roc_auc_score(val_labels_mc, val_probs,average='macro', multi_class='ovo'))\n",
    "    testperfs.append(roc_auc_score(test_labels_mc, test_probs,average='macro', multi_class='ovo'))"
   ]
  },
  {
   "cell_type": "code",
   "execution_count": 586,
   "metadata": {},
   "outputs": [
    {
     "data": {
      "text/plain": [
       "(0.6180902801237111, 0.6497222099451543)"
      ]
     },
     "execution_count": 586,
     "metadata": {},
     "output_type": "execute_result"
    }
   ],
   "source": [
    "testperfs[np.argmax(valperfs)], np.max(valperfs)"
   ]
  },
  {
   "cell_type": "markdown",
   "metadata": {},
   "source": [
    "### Then fit on both"
   ]
  },
  {
   "cell_type": "code",
   "execution_count": 587,
   "metadata": {},
   "outputs": [],
   "source": [
    "valperfs = []\n",
    "testperfs = []\n",
    "for C in [1e-5, 1e-4, 0.001, 0.005, 0.01, 0.05, 0.1, 0.5, 1.0, 5.0]:\n",
    "    lr = LogisticRegression(C=C, max_iter=500)\n",
    "    lr.fit(train_X, train_labels_mc)\n",
    "    val_probs = lr.predict_proba(val_X)\n",
    "    test_probs = lr.predict_proba(test_X)\n",
    "    valperfs.append(roc_auc_score(val_labels_mc, val_probs,average='macro', multi_class='ovo'))\n",
    "    testperfs.append(roc_auc_score(test_labels_mc, test_probs,average='macro', multi_class='ovo'))"
   ]
  },
  {
   "cell_type": "code",
   "execution_count": 588,
   "metadata": {},
   "outputs": [
    {
     "data": {
      "text/plain": [
       "(0.6269746188213442, 0.6749676417819009)"
      ]
     },
     "execution_count": 588,
     "metadata": {},
     "output_type": "execute_result"
    }
   ],
   "source": [
    "testperfs[np.argmax(valperfs)], np.max(valperfs)"
   ]
  },
  {
   "cell_type": "markdown",
   "metadata": {},
   "source": [
    "### Fit RF on only the ECG"
   ]
  },
  {
   "cell_type": "code",
   "execution_count": 589,
   "metadata": {},
   "outputs": [],
   "source": [
    "from sklearn.ensemble import RandomForestClassifier"
   ]
  },
  {
   "cell_type": "code",
   "execution_count": 590,
   "metadata": {},
   "outputs": [],
   "source": [
    "train_ecg = train_X[:, 6:]\n",
    "val_ecg = val_X[:, 6:]\n",
    "test_ecg = test_X[:, 6:]\n",
    "valperfs = []\n",
    "testperfs = []\n",
    "for C in [10, 50, 100, 200, 1000]:\n",
    "    lr = RandomForestClassifier(n_estimators=C, n_jobs=10)\n",
    "    lr.fit(train_ecg, train_labels_mc)\n",
    "    val_probs = lr.predict_proba(val_ecg)\n",
    "    test_probs = lr.predict_proba(test_ecg)\n",
    "    valperfs.append(roc_auc_score(val_labels_mc, val_probs,average='macro', multi_class='ovo'))\n",
    "    testperfs.append(roc_auc_score(test_labels_mc, test_probs,average='macro', multi_class='ovo'))"
   ]
  },
  {
   "cell_type": "code",
   "execution_count": 591,
   "metadata": {},
   "outputs": [
    {
     "data": {
      "text/plain": [
       "(0.6471572877394475, 0.6769439005156368)"
      ]
     },
     "execution_count": 591,
     "metadata": {},
     "output_type": "execute_result"
    }
   ],
   "source": [
    "testperfs[np.argmax(valperfs)], np.max(valperfs)"
   ]
  },
  {
   "cell_type": "markdown",
   "metadata": {},
   "source": [
    "### Then fit on only tabular"
   ]
  },
  {
   "cell_type": "code",
   "execution_count": 592,
   "metadata": {},
   "outputs": [],
   "source": [
    "train_tab = train_X[:, :6]\n",
    "val_tab = val_X[:, :6]\n",
    "test_tab = test_X[:, :6]\n",
    "valperfs = []\n",
    "testperfs = []\n",
    "for C in [10, 50, 100, 200, 1000]:\n",
    "    lr = RandomForestClassifier(n_estimators=C, n_jobs=10)\n",
    "    lr.fit(train_tab, train_labels_mc)\n",
    "    val_probs = lr.predict_proba(val_tab)\n",
    "    test_probs = lr.predict_proba(test_tab)\n",
    "    valperfs.append(roc_auc_score(val_labels_mc, val_probs,average='macro', multi_class='ovo'))\n",
    "    testperfs.append(roc_auc_score(test_labels_mc, test_probs,average='macro', multi_class='ovo'))"
   ]
  },
  {
   "cell_type": "code",
   "execution_count": 593,
   "metadata": {},
   "outputs": [
    {
     "data": {
      "text/plain": [
       "(0.5740295278915746, 0.638603930272332)"
      ]
     },
     "execution_count": 593,
     "metadata": {},
     "output_type": "execute_result"
    }
   ],
   "source": [
    "testperfs[np.argmax(valperfs)], np.max(valperfs)"
   ]
  },
  {
   "cell_type": "markdown",
   "metadata": {},
   "source": [
    "### Then fit on both"
   ]
  },
  {
   "cell_type": "code",
   "execution_count": 594,
   "metadata": {},
   "outputs": [],
   "source": [
    "valperfs = []\n",
    "testperfs = []\n",
    "for C in [10, 50, 100, 200, 1000]:\n",
    "    lr = RandomForestClassifier(n_estimators=C, n_jobs=10)\n",
    "    lr.fit(train_X, train_labels_mc)\n",
    "    val_probs = lr.predict_proba(val_X)\n",
    "    test_probs = lr.predict_proba(test_X)\n",
    "    valperfs.append(roc_auc_score(val_labels_mc, val_probs,average='macro', multi_class='ovo'))\n",
    "    testperfs.append(roc_auc_score(test_labels_mc, test_probs,average='macro', multi_class='ovo'))"
   ]
  },
  {
   "cell_type": "code",
   "execution_count": 595,
   "metadata": {},
   "outputs": [
    {
     "data": {
      "text/plain": [
       "(0.6500714778138368, 0.6868062773499037)"
      ]
     },
     "execution_count": 595,
     "metadata": {},
     "output_type": "execute_result"
    }
   ],
   "source": [
    "testperfs[np.argmax(valperfs)], np.max(valperfs)"
   ]
  },
  {
   "cell_type": "code",
   "execution_count": null,
   "metadata": {},
   "outputs": [],
   "source": []
  }
 ],
 "metadata": {
  "kernelspec": {
   "display_name": "Python 3 (ipykernel)",
   "language": "python",
   "name": "python3"
  },
  "language_info": {
   "codemirror_mode": {
    "name": "ipython",
    "version": 3
   },
   "file_extension": ".py",
   "mimetype": "text/x-python",
   "name": "python",
   "nbconvert_exporter": "python",
   "pygments_lexer": "ipython3",
   "version": "3.9.7"
  }
 },
 "nbformat": 4,
 "nbformat_minor": 2
}
