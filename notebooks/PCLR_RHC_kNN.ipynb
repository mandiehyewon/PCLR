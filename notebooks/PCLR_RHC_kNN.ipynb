{
 "cells": [
  {
   "cell_type": "code",
   "execution_count": 9,
   "id": "76fd57d4",
   "metadata": {},
   "outputs": [],
   "source": [
    "import os\n",
    "import numpy as np\n",
    "import pandas as pd\n",
    "import seaborn as sns\n",
    "%matplotlib inline\n",
    "import matplotlib.pyplot as plt\n",
    "from sklearn.neighbors import NearestNeighbors\n",
    "\n",
    "#get data\n",
    "tab = '/storage/shared/apollo/same-day/tabular_data.csv'\n",
    "df_tab = pd.read_csv(tab)\n",
    "df_tab = df_tab.dropna(subset=['CO'])\n",
    "labels = list(df_tab['PCWP_mean'])\n",
    "\n",
    "# PCLR, RHC Representations\n",
    "pclr_reprs = np.load('pclr.npy') #pt_no, 320dim\n",
    "rhc_reprs = np.load('/storage/hyewonjeong/RHCnet/rhc.npy') #pt_no, 320dim\n",
    "\n",
    "k_nb = 2"
   ]
  },
  {
   "cell_type": "code",
   "execution_count": 10,
   "id": "ad645067",
   "metadata": {},
   "outputs": [],
   "source": [
    "def rmse(y, y_knn): #input numpy format\n",
    "    rmse = np.sqrt(np.mean((y_knn-y)**2))\n",
    "    return rmse"
   ]
  },
  {
   "cell_type": "code",
   "execution_count": 9,
   "id": "81f2549c",
   "metadata": {},
   "outputs": [],
   "source": [
    "pclr_nbrs = NearestNeighbors(n_neighbors=k_nb, algorithm='ball_tree').fit(pclr_reprs)\n",
    "distances_pclr, indices_pclr = pclr_nbrs.kneighbors(pclr_reprs)"
   ]
  },
  {
   "cell_type": "code",
   "execution_count": 10,
   "id": "1a84aaaf",
   "metadata": {},
   "outputs": [],
   "source": [
    "rhc_nbrs = NearestNeighbors(n_neighbors=k_nb, algorithm='ball_tree').fit(rhc_reprs)\n",
    "distances_rhc, indices_rhc = rhc_nbrs.kneighbors(rhc_reprs)"
   ]
  },
  {
   "cell_type": "code",
   "execution_count": 13,
   "id": "a1674e78",
   "metadata": {},
   "outputs": [],
   "source": [
    "np.save('indices_pclr.npy', indices_pclr)\n",
    "np.save('indices_rhc.npy', indices_rhc)"
   ]
  },
  {
   "cell_type": "markdown",
   "id": "43767f50",
   "metadata": {},
   "source": [
    "k = 2"
   ]
  },
  {
   "cell_type": "code",
   "execution_count": 5,
   "id": "df0f5d29",
   "metadata": {},
   "outputs": [],
   "source": [
    "indices_labels = np.zeros(np.array(indices).shape)\n",
    "for i in range(len(indices)):\n",
    "    for j in range(k_nb):\n",
    "        indices_labels[i][j] = labels[indices[i][j]]"
   ]
  },
  {
   "cell_type": "code",
   "execution_count": 15,
   "id": "1bbae243",
   "metadata": {},
   "outputs": [
    {
     "name": "stdout",
     "output_type": "stream",
     "text": [
      "0.1326043769136739\n"
     ]
    }
   ],
   "source": [
    "rmsel = rmse(indices_labels[:, 0], indices_labels[:, 1])\n",
    "print(rmsel)"
   ]
  },
  {
   "cell_type": "code",
   "execution_count": 10,
   "id": "48ee9682",
   "metadata": {},
   "outputs": [
    {
     "data": {
      "text/plain": [
       "6290"
      ]
     },
     "execution_count": 10,
     "metadata": {},
     "output_type": "execute_result"
    }
   ],
   "source": [
    "indices_labels[:, 0].shape[0]"
   ]
  },
  {
   "cell_type": "code",
   "execution_count": null,
   "id": "692c8415",
   "metadata": {},
   "outputs": [],
   "source": [
    "for i in range(len(labels)):\n",
    "    if labels[i] != indices_labels[i][1]:\n",
    "        print(labels[i], indices_labels[i])"
   ]
  },
  {
   "cell_type": "markdown",
   "id": "c7241d35",
   "metadata": {},
   "source": [
    "# RHC Net"
   ]
  },
  {
   "cell_type": "code",
   "execution_count": 25,
   "id": "0b0683d2",
   "metadata": {},
   "outputs": [
    {
     "name": "stdout",
     "output_type": "stream",
     "text": [
      "5.258394757081637\n"
     ]
    }
   ],
   "source": [
    "k_nb = 2 #1-NN\n",
    "\n",
    "rhc_nbrs = NearestNeighbors(n_neighbors=k_nb, algorithm='ball_tree').fit(rhc_reprs)\n",
    "distances, indices = rhc_nbrs.kneighbors(rhc_reprs)\n",
    "\n",
    "indices_labels = np.zeros(np.array(indices).shape)\n",
    "for i in range(len(indices)):\n",
    "    for j in range(k_nb):\n",
    "        indices_labels[i][j] = labels[indices[i][j]]\n",
    "        \n",
    "rmsel = 0\n",
    "for i in range(k_nb):\n",
    "    rmsel += rmse(indices_labels[:, 0], indices_labels[:, i])\n",
    "print(rmsel / k_nb)"
   ]
  },
  {
   "cell_type": "code",
   "execution_count": 32,
   "id": "c19d496e",
   "metadata": {},
   "outputs": [
    {
     "name": "stdout",
     "output_type": "stream",
     "text": [
      "5.258394757081637\n"
     ]
    }
   ],
   "source": [
    "k_nb = 2 #1-NN\n",
    "\n",
    "rhc_nbrs = NearestNeighbors(n_neighbors=k_nb, algorithm='brute').fit(rhc_reprs)\n",
    "distances, indices = rhc_nbrs.kneighbors(rhc_reprs)\n",
    "\n",
    "indices_labels = np.zeros(np.array(indices).shape)\n",
    "for i in range(len(indices)):\n",
    "    for j in range(k_nb):\n",
    "        indices_labels[i][j] = labels[indices[i][j]]\n",
    "        \n",
    "rmsel = 0\n",
    "for i in range(k_nb):\n",
    "    rmsel += rmse(indices_labels[:, 0], indices_labels[:, i])\n",
    "print(rmsel / k_nb)"
   ]
  },
  {
   "cell_type": "code",
   "execution_count": 21,
   "id": "5ec4d2e7",
   "metadata": {},
   "outputs": [
    {
     "name": "stdout",
     "output_type": "stream",
     "text": [
      "7.049103071913102\n"
     ]
    }
   ],
   "source": [
    "k_nb = 3 #2-NN\n",
    "\n",
    "rhc_nbrs = NearestNeighbors(n_neighbors=k_nb, algorithm='ball_tree').fit(rhc_reprs)\n",
    "distances, indices = rhc_nbrs.kneighbors(rhc_reprs)\n",
    "\n",
    "indices_labels = np.zeros(np.array(indices).shape)\n",
    "for i in range(len(indices)):\n",
    "    for j in range(k_nb):\n",
    "        indices_labels[i][j] = labels[indices[i][j]]\n",
    "        \n",
    "rmsel = 0\n",
    "for i in range(k_nb):\n",
    "    rmsel += rmse(indices_labels[:, 0], indices_labels[:, i])\n",
    "print(rmsel / k_nb)"
   ]
  },
  {
   "cell_type": "code",
   "execution_count": 22,
   "id": "41119fc9",
   "metadata": {},
   "outputs": [
    {
     "name": "stdout",
     "output_type": "stream",
     "text": [
      "7.943881388253629\n"
     ]
    }
   ],
   "source": [
    "k_nb = 4 \n",
    "\n",
    "rhc_nbrs = NearestNeighbors(n_neighbors=k_nb, algorithm='ball_tree').fit(rhc_reprs)\n",
    "distances, indices = rhc_nbrs.kneighbors(rhc_reprs)\n",
    "\n",
    "indices_labels = np.zeros(np.array(indices).shape)\n",
    "for i in range(len(indices)):\n",
    "    for j in range(k_nb):\n",
    "        indices_labels[i][j] = labels[indices[i][j]]\n",
    "        \n",
    "rmsel = 0\n",
    "for i in range(k_nb):\n",
    "    rmsel += rmse(indices_labels[:, 0], indices_labels[:, i])\n",
    "print(rmsel / k_nb)"
   ]
  },
  {
   "cell_type": "code",
   "execution_count": 23,
   "id": "8b0e140a",
   "metadata": {},
   "outputs": [
    {
     "name": "stdout",
     "output_type": "stream",
     "text": [
      "8.49600666356125\n"
     ]
    }
   ],
   "source": [
    "k_nb = 5\n",
    "\n",
    "rhc_nbrs = NearestNeighbors(n_neighbors=k_nb, algorithm='ball_tree').fit(rhc_reprs)\n",
    "distances, indices = rhc_nbrs.kneighbors(rhc_reprs)\n",
    "\n",
    "indices_labels = np.zeros(np.array(indices).shape)\n",
    "for i in range(len(indices)):\n",
    "    for j in range(k_nb):\n",
    "        indices_labels[i][j] = labels[indices[i][j]]\n",
    "        \n",
    "rmsel = 0\n",
    "for i in range(k_nb):\n",
    "    rmsel += rmse(indices_labels[:, 0], indices_labels[:, i])\n",
    "print(rmsel / k_nb)"
   ]
  },
  {
   "cell_type": "code",
   "execution_count": 33,
   "id": "6f3f96dd",
   "metadata": {},
   "outputs": [
    {
     "name": "stdout",
     "output_type": "stream",
     "text": [
      "9.653954401234408\n"
     ]
    }
   ],
   "source": [
    "k_nb = 11\n",
    "\n",
    "rhc_nbrs = NearestNeighbors(n_neighbors=k_nb, algorithm='ball_tree').fit(rhc_reprs)\n",
    "distances, indices = rhc_nbrs.kneighbors(rhc_reprs)\n",
    "\n",
    "indices_labels = np.zeros(np.array(indices).shape)\n",
    "for i in range(len(indices)):\n",
    "    for j in range(k_nb):\n",
    "        indices_labels[i][j] = labels[indices[i][j]]\n",
    "        \n",
    "rmsel = 0\n",
    "for i in range(k_nb):\n",
    "    rmsel += rmse(indices_labels[:, 0], indices_labels[:, i])\n",
    "print(rmsel / k_nb)"
   ]
  },
  {
   "cell_type": "code",
   "execution_count": 34,
   "id": "4054c870",
   "metadata": {},
   "outputs": [
    {
     "name": "stdout",
     "output_type": "stream",
     "text": [
      "10.131209285327687\n"
     ]
    }
   ],
   "source": [
    "k_nb = 21\n",
    "\n",
    "rhc_nbrs = NearestNeighbors(n_neighbors=k_nb, algorithm='ball_tree').fit(rhc_reprs)\n",
    "distances, indices = rhc_nbrs.kneighbors(rhc_reprs)\n",
    "\n",
    "indices_labels = np.zeros(np.array(indices).shape)\n",
    "for i in range(len(indices)):\n",
    "    for j in range(k_nb):\n",
    "        indices_labels[i][j] = labels[indices[i][j]]\n",
    "        \n",
    "rmsel = 0\n",
    "for i in range(k_nb):\n",
    "    rmsel += rmse(indices_labels[:, 0], indices_labels[:, i])\n",
    "print(rmsel / k_nb)"
   ]
  },
  {
   "cell_type": "markdown",
   "id": "de40df29",
   "metadata": {},
   "source": [
    "# PCLR"
   ]
  },
  {
   "cell_type": "code",
   "execution_count": 27,
   "id": "faf5317c",
   "metadata": {},
   "outputs": [
    {
     "name": "stdout",
     "output_type": "stream",
     "text": [
      "4.567076482758316\n"
     ]
    }
   ],
   "source": [
    "k_nb = 2 #1-NN\n",
    "\n",
    "pclr_nbrs = NearestNeighbors(n_neighbors=k_nb, algorithm='ball_tree').fit(pclr_reprs)\n",
    "distances, indices = pclr_nbrs.kneighbors(pclr_reprs)\n",
    "\n",
    "indices_labels = np.zeros(np.array(indices).shape)\n",
    "for i in range(len(indices)):\n",
    "    for j in range(k_nb):\n",
    "        indices_labels[i][j] = labels[indices[i][j]]\n",
    "        \n",
    "rmsel = 0\n",
    "for i in range(k_nb):\n",
    "    rmsel += rmse(indices_labels[:, 0], indices_labels[:, i])\n",
    "print(rmsel / k_nb)"
   ]
  },
  {
   "cell_type": "code",
   "execution_count": 31,
   "id": "885101c9",
   "metadata": {},
   "outputs": [
    {
     "name": "stdout",
     "output_type": "stream",
     "text": [
      "4.567076482758316\n"
     ]
    }
   ],
   "source": [
    "k_nb = 2 #1-NN\n",
    "\n",
    "pclr_nbrs = NearestNeighbors(n_neighbors=k_nb, algorithm='brute').fit(pclr_reprs)\n",
    "distances, indices = pclr_nbrs.kneighbors(pclr_reprs)\n",
    "\n",
    "indices_labels = np.zeros(np.array(indices).shape)\n",
    "for i in range(len(indices)):\n",
    "    for j in range(k_nb):\n",
    "        indices_labels[i][j] = labels[indices[i][j]]\n",
    "        \n",
    "rmsel = 0\n",
    "for i in range(k_nb):\n",
    "    rmsel += rmse(indices_labels[:, 0], indices_labels[:, i])\n",
    "print(rmsel / k_nb)"
   ]
  },
  {
   "cell_type": "code",
   "execution_count": 28,
   "id": "56dc6c55",
   "metadata": {},
   "outputs": [
    {
     "name": "stdout",
     "output_type": "stream",
     "text": [
      "6.240429983146292\n"
     ]
    }
   ],
   "source": [
    "k_nb = 3 #1-NN\n",
    "\n",
    "pclr_nbrs = NearestNeighbors(n_neighbors=k_nb, algorithm='ball_tree').fit(pclr_reprs)\n",
    "distances, indices = pclr_nbrs.kneighbors(pclr_reprs)\n",
    "\n",
    "indices_labels = np.zeros(np.array(indices).shape)\n",
    "for i in range(len(indices)):\n",
    "    for j in range(k_nb):\n",
    "        indices_labels[i][j] = labels[indices[i][j]]\n",
    "        \n",
    "rmsel = 0\n",
    "for i in range(k_nb):\n",
    "    rmsel += rmse(indices_labels[:, 0], indices_labels[:, i])\n",
    "print(rmsel / k_nb)"
   ]
  },
  {
   "cell_type": "code",
   "execution_count": 29,
   "id": "41c78bc7",
   "metadata": {},
   "outputs": [
    {
     "name": "stdout",
     "output_type": "stream",
     "text": [
      "7.038385895448225\n"
     ]
    }
   ],
   "source": [
    "k_nb = 4 #1-NN\n",
    "\n",
    "pclr_nbrs = NearestNeighbors(n_neighbors=k_nb, algorithm='ball_tree').fit(pclr_reprs)\n",
    "distances, indices = pclr_nbrs.kneighbors(pclr_reprs)\n",
    "\n",
    "indices_labels = np.zeros(np.array(indices).shape)\n",
    "for i in range(len(indices)):\n",
    "    for j in range(k_nb):\n",
    "        indices_labels[i][j] = labels[indices[i][j]]\n",
    "        \n",
    "rmsel = 0\n",
    "for i in range(k_nb):\n",
    "    rmsel += rmse(indices_labels[:, 0], indices_labels[:, i])\n",
    "print(rmsel / k_nb)"
   ]
  },
  {
   "cell_type": "code",
   "execution_count": 37,
   "id": "c4f178f0",
   "metadata": {},
   "outputs": [
    {
     "name": "stdout",
     "output_type": "stream",
     "text": [
      "7.559877338829635\n"
     ]
    }
   ],
   "source": [
    "k_nb = 5\n",
    "\n",
    "pclr_nbrs = NearestNeighbors(n_neighbors=k_nb, algorithm='ball_tree').fit(pclr_reprs)\n",
    "distances, indices = pclr_nbrs.kneighbors(pclr_reprs)\n",
    "\n",
    "indices_labels = np.zeros(np.array(indices).shape)\n",
    "for i in range(len(indices)):\n",
    "    for j in range(k_nb):\n",
    "        indices_labels[i][j] = labels[indices[i][j]]\n",
    "        \n",
    "rmsel = 0\n",
    "for i in range(k_nb):\n",
    "    rmsel += rmse(indices_labels[:, 0], indices_labels[:, i])\n",
    "print(rmsel / k_nb)"
   ]
  },
  {
   "cell_type": "code",
   "execution_count": 35,
   "id": "54b9b8e8",
   "metadata": {},
   "outputs": [
    {
     "name": "stdout",
     "output_type": "stream",
     "text": [
      "8.823824281268157\n"
     ]
    }
   ],
   "source": [
    "k_nb = 11\n",
    "\n",
    "pclr_nbrs = NearestNeighbors(n_neighbors=k_nb, algorithm='ball_tree').fit(pclr_reprs)\n",
    "distances, indices = pclr_nbrs.kneighbors(pclr_reprs)\n",
    "\n",
    "indices_labels = np.zeros(np.array(indices).shape)\n",
    "for i in range(len(indices)):\n",
    "    for j in range(k_nb):\n",
    "        indices_labels[i][j] = labels[indices[i][j]]\n",
    "        \n",
    "rmsel = 0\n",
    "for i in range(k_nb):\n",
    "    rmsel += rmse(indices_labels[:, 0], indices_labels[:, i])\n",
    "print(rmsel / k_nb)"
   ]
  },
  {
   "cell_type": "code",
   "execution_count": 36,
   "id": "2f6ce2eb",
   "metadata": {},
   "outputs": [
    {
     "name": "stdout",
     "output_type": "stream",
     "text": [
      "9.413960266139274\n"
     ]
    }
   ],
   "source": [
    "k_nb = 21\n",
    "\n",
    "pclr_nbrs = NearestNeighbors(n_neighbors=k_nb, algorithm='ball_tree').fit(pclr_reprs)\n",
    "distances, indices = pclr_nbrs.kneighbors(pclr_reprs)\n",
    "\n",
    "indices_labels = np.zeros(np.array(indices).shape)\n",
    "for i in range(len(indices)):\n",
    "    for j in range(k_nb):\n",
    "        indices_labels[i][j] = labels[indices[i][j]]\n",
    "        \n",
    "rmsel = 0\n",
    "for i in range(k_nb):\n",
    "    rmsel += rmse(indices_labels[:, 0], indices_labels[:, i])\n",
    "print(rmsel / k_nb)"
   ]
  },
  {
   "cell_type": "markdown",
   "id": "88dbed84",
   "metadata": {},
   "source": [
    "# Lable Bucket"
   ]
  },
  {
   "cell_type": "code",
   "execution_count": 3,
   "id": "54a66eac",
   "metadata": {},
   "outputs": [
    {
     "name": "stdout",
     "output_type": "stream",
     "text": [
      "4680 1667 1825\n"
     ]
    }
   ],
   "source": [
    "import os\n",
    "import numpy as np\n",
    "import pandas as pd\n",
    "\n",
    "from torch.utils.data import Dataset\n",
    "\n",
    "dir_csv= '/storage/shared/apollo/same-day/'\n",
    "dir_apollo= '/storage/shared/apollo/raw_tables_deid/'\n",
    "\n",
    "args = {}\n",
    "df_tab = pd.read_csv(os.path.join(dir_csv, \"tabular_data.csv\"))\n",
    "train_ids = np.load(\"/storage/hyewonjeong/metricssl_ecg/stores/train_ids.npy\")\n",
    "val_ids = np.load(\"/storage/hyewonjeong/metricssl_ecg/stores/val_ids.npy\")\n",
    "test_ids = np.load(\"/storage/hyewonjeong/metricssl_ecg/stores/test_ids.npy\")\n",
    "\n",
    "train_df = df_tab[df_tab[\"QuantaID\"].isin(train_ids)]\n",
    "val_df = df_tab[df_tab[\"QuantaID\"].isin(val_ids)]\n",
    "test_df = df_tab[df_tab[\"QuantaID\"].isin(test_ids)]\n",
    "print(len(train_df), len(val_df), len(test_df))"
   ]
  },
  {
   "cell_type": "code",
   "execution_count": 7,
   "id": "7361a6ce",
   "metadata": {},
   "outputs": [],
   "source": [
    "label = list(train_df['PCWP_mean'])\n",
    "bucket = []\n",
    "\n",
    "for i in range (len(label)):\n",
    "    if label[i] > 50:\n",
    "        bucket.append(5)\n",
    "    elif label[i] > 40:\n",
    "        bucket.append(4)\n",
    "    elif label[i] > 30:\n",
    "        bucket.append(3)\n",
    "    elif label[i] > 20:\n",
    "        bucket.append(2)\n",
    "    elif label[i] > 10:\n",
    "        bucket.append(1)\n",
    "    else:\n",
    "        bucket.append(0)\n",
    "\n",
    "# train_label = np.array(train_df['PCWP_mean']>15).astype(int)"
   ]
  },
  {
   "cell_type": "code",
   "execution_count": 5,
   "id": "19ac8b28",
   "metadata": {},
   "outputs": [
    {
     "data": {
      "text/plain": [
       "array([ 1.,  2.,  3.,  4.,  5.,  6.,  7.,  8.,  9., 10., 11., 12., 13.,\n",
       "       14., 15., 16., 17., 18., 19., 20., 21., 22., 23., 24., 25., 26.,\n",
       "       27., 28., 29., 30., 31., 32., 33., 34., 35., 36., 37., 38., 39.,\n",
       "       40., 41., 42., 43., 44., 45., 46., 47., 48., 50., 52., 53.])"
      ]
     },
     "execution_count": 5,
     "metadata": {},
     "output_type": "execute_result"
    }
   ],
   "source": [
    "label = np.array(train_df['PCWP_mean'])\n",
    "np.unique(label)"
   ]
  },
  {
   "cell_type": "code",
   "execution_count": 39,
   "id": "5c8202cf",
   "metadata": {},
   "outputs": [
    {
     "name": "stdout",
     "output_type": "stream",
     "text": [
      "<bound method NDFrame._add_numeric_operations.<locals>.median of 0       26.0\n",
      "4       19.0\n",
      "5       12.0\n",
      "6       14.0\n",
      "8       11.0\n",
      "        ... \n",
      "9214    13.0\n",
      "9215     7.0\n",
      "9219    18.0\n",
      "9221     9.0\n",
      "9222    13.0\n",
      "Name: PCWP_mean, Length: 4680, dtype: float64>\n",
      "10.0\n",
      "21.0\n"
     ]
    }
   ],
   "source": [
    "print(train_df['PCWP_mean'].median)\n",
    "print(train_df['PCWP_mean'].quantile(0.25))\n",
    "print(train_df['PCWP_mean'].quantile(0.75))"
   ]
  },
  {
   "cell_type": "code",
   "execution_count": 17,
   "id": "5317045e",
   "metadata": {},
   "outputs": [
    {
     "name": "stderr",
     "output_type": "stream",
     "text": [
      "2022-01-20 11:07:51.632549: I tensorflow/core/common_runtime/gpu/gpu_device.cc:1720] Found device 0 with properties: \n",
      "pciBusID: 0000:dc:00.0 name: Tesla V100-SXM2-32GB computeCapability: 7.0\n",
      "coreClock: 1.53GHz coreCount: 80 deviceMemorySize: 31.75GiB deviceMemoryBandwidth: 836.37GiB/s\n",
      "2022-01-20 11:07:51.632672: I tensorflow/stream_executor/platform/default/dso_loader.cc:49] Successfully opened dynamic library libcudart.so.10.1\n",
      "2022-01-20 11:07:51.632790: I tensorflow/stream_executor/platform/default/dso_loader.cc:49] Successfully opened dynamic library libcublas.so.10\n",
      "2022-01-20 11:07:51.632833: I tensorflow/stream_executor/platform/default/dso_loader.cc:49] Successfully opened dynamic library libcublasLt.so.10\n",
      "2022-01-20 11:07:51.632865: I tensorflow/stream_executor/platform/default/dso_loader.cc:49] Successfully opened dynamic library libcufft.so.10\n",
      "2022-01-20 11:07:51.632896: I tensorflow/stream_executor/platform/default/dso_loader.cc:49] Successfully opened dynamic library libcurand.so.10\n",
      "2022-01-20 11:07:51.632931: I tensorflow/stream_executor/platform/default/dso_loader.cc:49] Successfully opened dynamic library libcusolver.so.10\n",
      "2022-01-20 11:07:51.632963: I tensorflow/stream_executor/platform/default/dso_loader.cc:49] Successfully opened dynamic library libcusparse.so.10\n",
      "2022-01-20 11:07:51.632994: I tensorflow/stream_executor/platform/default/dso_loader.cc:49] Successfully opened dynamic library libcudnn.so.7\n",
      "2022-01-20 11:07:54.715688: I tensorflow/core/common_runtime/gpu/gpu_device.cc:1862] Adding visible gpu devices: 0\n",
      "2022-01-20 11:07:54.715783: I tensorflow/core/common_runtime/gpu/gpu_device.cc:1261] Device interconnect StreamExecutor with strength 1 edge matrix:\n",
      "2022-01-20 11:07:54.715800: I tensorflow/core/common_runtime/gpu/gpu_device.cc:1267]      0 \n",
      "2022-01-20 11:07:54.715814: I tensorflow/core/common_runtime/gpu/gpu_device.cc:1280] 0:   N \n",
      "2022-01-20 11:07:54.725045: I tensorflow/core/common_runtime/gpu/gpu_device.cc:1406] Created TensorFlow device (/job:localhost/replica:0/task:0/device:GPU:0 with 30130 MB memory) -> physical GPU (device: 0, name: Tesla V100-SXM2-32GB, pci bus id: 0000:dc:00.0, compute capability: 7.0)\n",
      "2022-01-20 11:07:54.725079: I tensorflow/compiler/jit/xla_gpu_device.cc:99] Not creating XLA devices, tf_xla_enable_xla_devices not set\n"
     ]
    },
    {
     "name": "stdout",
     "output_type": "stream",
     "text": [
      "WARNING:tensorflow:No training configuration found in the save file, so the model was *not* compiled. Compile it manually.\n"
     ]
    },
    {
     "name": "stderr",
     "output_type": "stream",
     "text": [
      "2022-01-20 11:07:56.256326: I tensorflow/compiler/mlir/mlir_graph_optimization_pass.cc:116] None of the MLIR optimization passes are enabled (registered 2)\n",
      "2022-01-20 11:07:56.284281: I tensorflow/core/platform/profile_utils/cpu_utils.cc:112] CPU Frequency: 2400000000 Hz\n",
      "2022-01-20 11:08:02.624891: I tensorflow/stream_executor/platform/default/dso_loader.cc:49] Successfully opened dynamic library libcudnn.so.7\n",
      "2022-01-20 11:09:03.423127: W tensorflow/stream_executor/gpu/asm_compiler.cc:63] Running ptxas --version returned 256\n",
      "2022-01-20 11:09:03.477122: W tensorflow/stream_executor/gpu/redzone_allocator.cc:314] Internal: ptxas exited with non-zero error code 256, output: \n",
      "Relying on driver to perform ptx compilation. \n",
      "Modify $PATH to customize ptxas location.\n",
      "This message will be only logged once.\n",
      "2022-01-20 11:09:03.837027: I tensorflow/stream_executor/platform/default/dso_loader.cc:49] Successfully opened dynamic library libcublas.so.10\n"
     ]
    },
    {
     "name": "stdout",
     "output_type": "stream",
     "text": [
      "6.754628043053148\n"
     ]
    }
   ],
   "source": [
    "import tensorflow as tf\n",
    "\n",
    "import preprocess_ecg\n",
    "import get_representations\n",
    "\n",
    "os.environ[\"CUDA_VISIBLE_DEVICES\"] = str(7)\n",
    "gpus = tf.config.list_physical_devices('GPU')\n",
    "tf.config.set_visible_devices(gpus[0], 'GPU')\n",
    "tf.config.experimental.set_memory_growth(gpus[0], True)\n",
    "    \n",
    "tab = '/storage/shared/apollo/same-day/tabular_data.csv'\n",
    "df_tab = pd.read_csv(tab)\n",
    "df_tab = df_tab.dropna(subset=['CO'])\n",
    "\n",
    "def get_data(df):\n",
    "    ecgs = []\n",
    "    for idx in df.index:\n",
    "        row = df.loc[idx]\n",
    "        qid = row['QuantaID']\n",
    "        doc = row['Date_of_Cath']\n",
    "        fname = f'/storage/shared/apollo/same-day/{qid}_{doc}.csv'\n",
    "        x = pd.read_csv(fname).values[...,1:].astype(np.float32)\n",
    "        ecgs.append(x)\n",
    "    ecgs = np.array(ecgs)\n",
    "    ecgs /= 1000\n",
    "    return np.transpose(ecgs, (0,2,1))\n",
    "\n",
    "ecgs = get_data(df_tab[df_tab['PCWP_mean'] >= 50])\n",
    "\n",
    "# test = preprocess_ecg.process_ecg(ecgs[0])\n",
    "pclr_reprs = get_representations.get_representations(ecgs)\n",
    "\n",
    "np.save('pclr_reprs_50', pclr_reprs)\n",
    "\n",
    "k_nb = 2 #1-NN\n",
    "pclr_nbrs = NearestNeighbors(n_neighbors=k_nb, algorithm='ball_tree').fit(pclr_reprs)\n",
    "distances, indices = pclr_nbrs.kneighbors(pclr_reprs)\n",
    "\n",
    "indices_labels = np.zeros(np.array(indices).shape)\n",
    "for i in range(len(indices)):\n",
    "    for j in range(k_nb):\n",
    "        indices_labels[i][j] = labels[indices[i][j]]\n",
    "        \n",
    "rmsel = 0\n",
    "for i in range(k_nb):\n",
    "    rmsel += rmse(indices_labels[:, 0], indices_labels[:, i])\n",
    "print(rmsel / k_nb)"
   ]
  },
  {
   "cell_type": "code",
   "execution_count": 28,
   "id": "4f475325",
   "metadata": {},
   "outputs": [
    {
     "name": "stdout",
     "output_type": "stream",
     "text": [
      "WARNING:tensorflow:No training configuration found in the save file, so the model was *not* compiled. Compile it manually.\n",
      "6.185668920981788\n"
     ]
    }
   ],
   "source": [
    "import tensorflow as tf\n",
    "\n",
    "import preprocess_ecg\n",
    "import get_representations\n",
    "\n",
    "os.environ[\"CUDA_VISIBLE_DEVICES\"] = str(7)\n",
    "gpus = tf.config.list_physical_devices('GPU')\n",
    "tf.config.set_visible_devices(gpus[0], 'GPU')\n",
    "tf.config.experimental.set_memory_growth(gpus[0], True)\n",
    "    \n",
    "tab = '/storage/shared/apollo/same-day/tabular_data.csv'\n",
    "df_tab = pd.read_csv(tab)\n",
    "df_tab = df_tab.dropna(subset=['CO'])\n",
    "\n",
    "def get_data(df):\n",
    "    ecgs = []\n",
    "    for idx in df.index:\n",
    "        row = df.loc[idx]\n",
    "        qid = row['QuantaID']\n",
    "        doc = row['Date_of_Cath']\n",
    "        fname = f'/storage/shared/apollo/same-day/{qid}_{doc}.csv'\n",
    "        x = pd.read_csv(fname).values[...,1:].astype(np.float32)\n",
    "        ecgs.append(x)\n",
    "    ecgs = np.array(ecgs)\n",
    "    ecgs /= 1000\n",
    "    return np.transpose(ecgs, (0,2,1))\n",
    "\n",
    "ecgs = get_data(df_tab[(df_tab['PCWP_mean'] >= 40) & (df_tab['PCWP_mean'] < 50)])\n",
    "np.save('pclr_reprs_40', pclr_reprs)\n",
    "\n",
    "# test = preprocess_ecg.process_ecg(ecgs[0])\n",
    "pclr_reprs = get_representations.get_representations(ecgs)\n",
    "\n",
    "k_nb = 2 #1-NN\n",
    "pclr_nbrs = NearestNeighbors(n_neighbors=k_nb, algorithm='ball_tree').fit(pclr_reprs)\n",
    "distances, indices = pclr_nbrs.kneighbors(pclr_reprs)\n",
    "\n",
    "indices_labels = np.zeros(np.array(indices).shape)\n",
    "for i in range(len(indices)):\n",
    "    for j in range(k_nb):\n",
    "        indices_labels[i][j] = labels[indices[i][j]]\n",
    "        \n",
    "rmsel = 0\n",
    "for i in range(k_nb):\n",
    "    rmsel += rmse(indices_labels[:, 0], indices_labels[:, i])\n",
    "print(rmsel / k_nb)"
   ]
  },
  {
   "cell_type": "code",
   "execution_count": 31,
   "id": "2dd7d8ba",
   "metadata": {},
   "outputs": [
    {
     "name": "stdout",
     "output_type": "stream",
     "text": [
      "WARNING:tensorflow:No training configuration found in the save file, so the model was *not* compiled. Compile it manually.\n",
      "5.99844216536385\n"
     ]
    }
   ],
   "source": [
    "import tensorflow as tf\n",
    "\n",
    "import preprocess_ecg\n",
    "import get_representations\n",
    "\n",
    "os.environ[\"CUDA_VISIBLE_DEVICES\"] = str(7)\n",
    "gpus = tf.config.list_physical_devices('GPU')\n",
    "tf.config.set_visible_devices(gpus[0], 'GPU')\n",
    "tf.config.experimental.set_memory_growth(gpus[0], True)\n",
    "    \n",
    "tab = '/storage/shared/apollo/same-day/tabular_data.csv'\n",
    "df_tab = pd.read_csv(tab)\n",
    "df_tab = df_tab.dropna(subset=['CO'])\n",
    "\n",
    "def get_data(df):\n",
    "    ecgs = []\n",
    "    for idx in df.index:\n",
    "        row = df.loc[idx]\n",
    "        qid = row['QuantaID']\n",
    "        doc = row['Date_of_Cath']\n",
    "        fname = f'/storage/shared/apollo/same-day/{qid}_{doc}.csv'\n",
    "        x = pd.read_csv(fname).values[...,1:].astype(np.float32)\n",
    "        ecgs.append(x)\n",
    "    ecgs = np.array(ecgs)\n",
    "    ecgs /= 1000\n",
    "    return np.transpose(ecgs, (0,2,1))\n",
    "\n",
    "ecgs = get_data(df_tab[(df_tab['PCWP_mean'] >= 30) & (df_tab['PCWP_mean'] < 40)])\n",
    "np.save('pclr_reprs_30', pclr_reprs)\n",
    "\n",
    "# test = preprocess_ecg.process_ecg(ecgs[0])\n",
    "pclr_reprs = get_representations.get_representations(ecgs)\n",
    "\n",
    "k_nb = 2 #1-NN\n",
    "pclr_nbrs = NearestNeighbors(n_neighbors=k_nb, algorithm='ball_tree').fit(pclr_reprs)\n",
    "distances, indices = pclr_nbrs.kneighbors(pclr_reprs)\n",
    "\n",
    "indices_labels = np.zeros(np.array(indices).shape)\n",
    "for i in range(len(indices)):\n",
    "    for j in range(k_nb):\n",
    "        indices_labels[i][j] = labels[indices[i][j]]\n",
    "        \n",
    "rmsel = 0\n",
    "for i in range(k_nb):\n",
    "    rmsel += rmse(indices_labels[:, 0], indices_labels[:, i])\n",
    "print(rmsel / k_nb)"
   ]
  },
  {
   "cell_type": "code",
   "execution_count": 32,
   "id": "be3cf6dc",
   "metadata": {},
   "outputs": [
    {
     "name": "stdout",
     "output_type": "stream",
     "text": [
      "WARNING:tensorflow:No training configuration found in the save file, so the model was *not* compiled. Compile it manually.\n",
      "5.835738836880659\n"
     ]
    }
   ],
   "source": [
    "import tensorflow as tf\n",
    "\n",
    "import preprocess_ecg\n",
    "import get_representations\n",
    "\n",
    "os.environ[\"CUDA_VISIBLE_DEVICES\"] = str(7)\n",
    "gpus = tf.config.list_physical_devices('GPU')\n",
    "tf.config.set_visible_devices(gpus[0], 'GPU')\n",
    "tf.config.experimental.set_memory_growth(gpus[0], True)\n",
    "    \n",
    "tab = '/storage/shared/apollo/same-day/tabular_data.csv'\n",
    "df_tab = pd.read_csv(tab)\n",
    "df_tab = df_tab.dropna(subset=['CO'])\n",
    "\n",
    "def get_data(df):\n",
    "    ecgs = []\n",
    "    for idx in df.index:\n",
    "        row = df.loc[idx]\n",
    "        qid = row['QuantaID']\n",
    "        doc = row['Date_of_Cath']\n",
    "        fname = f'/storage/shared/apollo/same-day/{qid}_{doc}.csv'\n",
    "        x = pd.read_csv(fname).values[...,1:].astype(np.float32)\n",
    "        ecgs.append(x)\n",
    "    ecgs = np.array(ecgs)\n",
    "    ecgs /= 1000\n",
    "    return np.transpose(ecgs, (0,2,1))\n",
    "\n",
    "ecgs = get_data(df_tab[(df_tab['PCWP_mean'] >= 20) & (df_tab['PCWP_mean'] < 30)])\n",
    "np.save('pclr_reprs_20', pclr_reprs)\n",
    "\n",
    "# test = preprocess_ecg.process_ecg(ecgs[0])\n",
    "pclr_reprs = get_representations.get_representations(ecgs)\n",
    "\n",
    "k_nb = 2 #1-NN\n",
    "pclr_nbrs = NearestNeighbors(n_neighbors=k_nb, algorithm='ball_tree').fit(pclr_reprs)\n",
    "distances, indices = pclr_nbrs.kneighbors(pclr_reprs)\n",
    "\n",
    "indices_labels = np.zeros(np.array(indices).shape)\n",
    "for i in range(len(indices)):\n",
    "    for j in range(k_nb):\n",
    "        indices_labels[i][j] = labels[indices[i][j]]\n",
    "        \n",
    "rmsel = 0\n",
    "for i in range(k_nb):\n",
    "    rmsel += rmse(indices_labels[:, 0], indices_labels[:, i])\n",
    "print(rmsel / k_nb)"
   ]
  },
  {
   "cell_type": "code",
   "execution_count": 33,
   "id": "6badda5c",
   "metadata": {},
   "outputs": [
    {
     "name": "stdout",
     "output_type": "stream",
     "text": [
      "WARNING:tensorflow:No training configuration found in the save file, so the model was *not* compiled. Compile it manually.\n",
      "5.6926884325066816\n"
     ]
    }
   ],
   "source": [
    "import tensorflow as tf\n",
    "\n",
    "import preprocess_ecg\n",
    "import get_representations\n",
    "\n",
    "os.environ[\"CUDA_VISIBLE_DEVICES\"] = str(7)\n",
    "gpus = tf.config.list_physical_devices('GPU')\n",
    "tf.config.set_visible_devices(gpus[0], 'GPU')\n",
    "tf.config.experimental.set_memory_growth(gpus[0], True)\n",
    "    \n",
    "tab = '/storage/shared/apollo/same-day/tabular_data.csv'\n",
    "df_tab = pd.read_csv(tab)\n",
    "df_tab = df_tab.dropna(subset=['CO'])\n",
    "\n",
    "def get_data(df):\n",
    "    ecgs = []\n",
    "    for idx in df.index:\n",
    "        row = df.loc[idx]\n",
    "        qid = row['QuantaID']\n",
    "        doc = row['Date_of_Cath']\n",
    "        fname = f'/storage/shared/apollo/same-day/{qid}_{doc}.csv'\n",
    "        x = pd.read_csv(fname).values[...,1:].astype(np.float32)\n",
    "        ecgs.append(x)\n",
    "    ecgs = np.array(ecgs)\n",
    "    ecgs /= 1000\n",
    "    return np.transpose(ecgs, (0,2,1))\n",
    "\n",
    "ecgs = get_data(df_tab[(df_tab['PCWP_mean'] >= 10) & (df_tab['PCWP_mean'] < 20)])\n",
    "np.save('pclr_reprs_10', pclr_reprs)\n",
    "\n",
    "# test = preprocess_ecg.process_ecg(ecgs[0])\n",
    "pclr_reprs = get_representations.get_representations(ecgs)\n",
    "\n",
    "k_nb = 2 #1-NN\n",
    "pclr_nbrs = NearestNeighbors(n_neighbors=k_nb, algorithm='ball_tree').fit(pclr_reprs)\n",
    "distances, indices = pclr_nbrs.kneighbors(pclr_reprs)\n",
    "\n",
    "indices_labels = np.zeros(np.array(indices).shape)\n",
    "for i in range(len(indices)):\n",
    "    for j in range(k_nb):\n",
    "        indices_labels[i][j] = labels[indices[i][j]]\n",
    "        \n",
    "rmsel = 0\n",
    "for i in range(k_nb):\n",
    "    rmsel += rmse(indices_labels[:, 0], indices_labels[:, i])\n",
    "print(rmsel / k_nb)"
   ]
  },
  {
   "cell_type": "code",
   "execution_count": 34,
   "id": "63a760d7",
   "metadata": {},
   "outputs": [
    {
     "name": "stdout",
     "output_type": "stream",
     "text": [
      "WARNING:tensorflow:No training configuration found in the save file, so the model was *not* compiled. Compile it manually.\n",
      "5.473404698705907\n"
     ]
    }
   ],
   "source": [
    "import tensorflow as tf\n",
    "\n",
    "import preprocess_ecg\n",
    "import get_representations\n",
    "\n",
    "os.environ[\"CUDA_VISIBLE_DEVICES\"] = str(7)\n",
    "gpus = tf.config.list_physical_devices('GPU')\n",
    "tf.config.set_visible_devices(gpus[0], 'GPU')\n",
    "tf.config.experimental.set_memory_growth(gpus[0], True)\n",
    "    \n",
    "tab = '/storage/shared/apollo/same-day/tabular_data.csv'\n",
    "df_tab = pd.read_csv(tab)\n",
    "df_tab = df_tab.dropna(subset=['CO'])\n",
    "\n",
    "def get_data(df):\n",
    "    ecgs = []\n",
    "    for idx in df.index:\n",
    "        row = df.loc[idx]\n",
    "        qid = row['QuantaID']\n",
    "        doc = row['Date_of_Cath']\n",
    "        fname = f'/storage/shared/apollo/same-day/{qid}_{doc}.csv'\n",
    "        x = pd.read_csv(fname).values[...,1:].astype(np.float32)\n",
    "        ecgs.append(x)\n",
    "    ecgs = np.array(ecgs)\n",
    "    ecgs /= 1000\n",
    "    return np.transpose(ecgs, (0,2,1))\n",
    "\n",
    "ecgs = get_data(df_tab[df_tab['PCWP_mean'] < 10])\n",
    "np.save('pclr_reprs_10', pclr_reprs)\n",
    "\n",
    "# test = preprocess_ecg.process_ecg(ecgs[0])\n",
    "pclr_reprs = get_representations.get_representations(ecgs)\n",
    "\n",
    "k_nb = 2 #1-NN\n",
    "pclr_nbrs = NearestNeighbors(n_neighbors=k_nb, algorithm='ball_tree').fit(pclr_reprs)\n",
    "distances, indices = pclr_nbrs.kneighbors(pclr_reprs)\n",
    "\n",
    "indices_labels = np.zeros(np.array(indices).shape)\n",
    "for i in range(len(indices)):\n",
    "    for j in range(k_nb):\n",
    "        indices_labels[i][j] = labels[indices[i][j]]\n",
    "        \n",
    "rmsel = 0\n",
    "for i in range(k_nb):\n",
    "    rmsel += rmse(indices_labels[:, 0], indices_labels[:, i])\n",
    "print(rmsel / k_nb)"
   ]
  },
  {
   "cell_type": "code",
   "execution_count": 41,
   "id": "bdc01881",
   "metadata": {},
   "outputs": [
    {
     "name": "stdout",
     "output_type": "stream",
     "text": [
      "WARNING:tensorflow:No training configuration found in the save file, so the model was *not* compiled. Compile it manually.\n",
      "5.630399879725349\n"
     ]
    }
   ],
   "source": [
    "import tensorflow as tf\n",
    "\n",
    "import preprocess_ecg\n",
    "import get_representations\n",
    "\n",
    "os.environ[\"CUDA_VISIBLE_DEVICES\"] = str(7)\n",
    "gpus = tf.config.list_physical_devices('GPU')\n",
    "tf.config.set_visible_devices(gpus[0], 'GPU')\n",
    "tf.config.experimental.set_memory_growth(gpus[0], True)\n",
    "    \n",
    "tab = '/storage/shared/apollo/same-day/tabular_data.csv'\n",
    "df_tab = pd.read_csv(tab)\n",
    "df_tab = df_tab.dropna(subset=['CO'])\n",
    "\n",
    "def get_data(df):\n",
    "    ecgs = []\n",
    "    for idx in df.index:\n",
    "        row = df.loc[idx]\n",
    "        qid = row['QuantaID']\n",
    "        doc = row['Date_of_Cath']\n",
    "        fname = f'/storage/shared/apollo/same-day/{qid}_{doc}.csv'\n",
    "        x = pd.read_csv(fname).values[...,1:].astype(np.float32)\n",
    "        ecgs.append(x)\n",
    "    ecgs = np.array(ecgs)\n",
    "    ecgs /= 1000\n",
    "    return np.transpose(ecgs, (0,2,1))\n",
    "\n",
    "ecgs = get_data(df_tab[(df_tab['PCWP_mean'] >= 10) & (df_tab['PCWP_mean'] < 21)])\n",
    "\n",
    "# test = preprocess_ecg.process_ecg(ecgs[0])\n",
    "pclr_reprs = get_representations.get_representations(ecgs)\n",
    "\n",
    "np.save('pclr_reprs_q1', pclr_reprs)\n",
    "\n",
    "k_nb = 2 #1-NN\n",
    "pclr_nbrs = NearestNeighbors(n_neighbors=k_nb, algorithm='ball_tree').fit(pclr_reprs)\n",
    "distances, indices = pclr_nbrs.kneighbors(pclr_reprs)\n",
    "\n",
    "indices_labels = np.zeros(np.array(indices).shape)\n",
    "for i in range(len(indices)):\n",
    "    for j in range(k_nb):\n",
    "        indices_labels[i][j] = labels[indices[i][j]]\n",
    "        \n",
    "rmsel = 0\n",
    "for i in range(k_nb):\n",
    "    rmsel += rmse(indices_labels[:, 0], indices_labels[:, i])\n",
    "print(rmsel / k_nb)"
   ]
  },
  {
   "cell_type": "code",
   "execution_count": 42,
   "id": "b7d9a489",
   "metadata": {},
   "outputs": [
    {
     "name": "stdout",
     "output_type": "stream",
     "text": [
      "WARNING:tensorflow:No training configuration found in the save file, so the model was *not* compiled. Compile it manually.\n",
      "5.794565277479139\n"
     ]
    }
   ],
   "source": [
    "import tensorflow as tf\n",
    "\n",
    "import preprocess_ecg\n",
    "import get_representations\n",
    "\n",
    "os.environ[\"CUDA_VISIBLE_DEVICES\"] = str(7)\n",
    "gpus = tf.config.list_physical_devices('GPU')\n",
    "tf.config.set_visible_devices(gpus[0], 'GPU')\n",
    "tf.config.experimental.set_memory_growth(gpus[0], True)\n",
    "    \n",
    "tab = '/storage/shared/apollo/same-day/tabular_data.csv'\n",
    "df_tab = pd.read_csv(tab)\n",
    "df_tab = df_tab.dropna(subset=['CO'])\n",
    "\n",
    "def get_data(df):\n",
    "    ecgs = []\n",
    "    for idx in df.index:\n",
    "        row = df.loc[idx]\n",
    "        qid = row['QuantaID']\n",
    "        doc = row['Date_of_Cath']\n",
    "        fname = f'/storage/shared/apollo/same-day/{qid}_{doc}.csv'\n",
    "        x = pd.read_csv(fname).values[...,1:].astype(np.float32)\n",
    "        ecgs.append(x)\n",
    "    ecgs = np.array(ecgs)\n",
    "    ecgs /= 1000\n",
    "    return np.transpose(ecgs, (0,2,1))\n",
    "\n",
    "ecgs = get_data(df_tab[(df_tab['PCWP_mean'] >= 21) & (df_tab['PCWP_mean'] < 26)])\n",
    "\n",
    "# test = preprocess_ecg.process_ecg(ecgs[0])\n",
    "pclr_reprs = get_representations.get_representations(ecgs)\n",
    "\n",
    "np.save('pclr_reprs_q1', pclr_reprs)\n",
    "\n",
    "k_nb = 2 #1-NN\n",
    "pclr_nbrs = NearestNeighbors(n_neighbors=k_nb, algorithm='ball_tree').fit(pclr_reprs)\n",
    "distances, indices = pclr_nbrs.kneighbors(pclr_reprs)\n",
    "\n",
    "indices_labels = np.zeros(np.array(indices).shape)\n",
    "for i in range(len(indices)):\n",
    "    for j in range(k_nb):\n",
    "        indices_labels[i][j] = labels[indices[i][j]]\n",
    "        \n",
    "rmsel = 0\n",
    "for i in range(k_nb):\n",
    "    rmsel += rmse(indices_labels[:, 0], indices_labels[:, i])\n",
    "print(rmsel / k_nb)"
   ]
  },
  {
   "cell_type": "code",
   "execution_count": 43,
   "id": "7324789e",
   "metadata": {},
   "outputs": [
    {
     "name": "stdout",
     "output_type": "stream",
     "text": [
      "WARNING:tensorflow:No training configuration found in the save file, so the model was *not* compiled. Compile it manually.\n",
      "5.412130337598568\n"
     ]
    }
   ],
   "source": [
    "import tensorflow as tf\n",
    "\n",
    "import preprocess_ecg\n",
    "import get_representations\n",
    "\n",
    "os.environ[\"CUDA_VISIBLE_DEVICES\"] = str(7)\n",
    "gpus = tf.config.list_physical_devices('GPU')\n",
    "tf.config.set_visible_devices(gpus[0], 'GPU')\n",
    "tf.config.experimental.set_memory_growth(gpus[0], True)\n",
    "    \n",
    "tab = '/storage/shared/apollo/same-day/tabular_data.csv'\n",
    "df_tab = pd.read_csv(tab)\n",
    "df_tab = df_tab.dropna(subset=['CO'])\n",
    "\n",
    "def get_data(df):\n",
    "    ecgs = []\n",
    "    for idx in df.index:\n",
    "        row = df.loc[idx]\n",
    "        qid = row['QuantaID']\n",
    "        doc = row['Date_of_Cath']\n",
    "        fname = f'/storage/shared/apollo/same-day/{qid}_{doc}.csv'\n",
    "        x = pd.read_csv(fname).values[...,1:].astype(np.float32)\n",
    "        ecgs.append(x)\n",
    "    ecgs = np.array(ecgs)\n",
    "    ecgs /= 1000\n",
    "    return np.transpose(ecgs, (0,2,1))\n",
    "\n",
    "ecgs = get_data(df_tab[df_tab['PCWP_mean'] >26])\n",
    "\n",
    "# test = preprocess_ecg.process_ecg(ecgs[0])\n",
    "pclr_reprs = get_representations.get_representations(ecgs)\n",
    "\n",
    "np.save('pclr_reprs_q1', pclr_reprs)\n",
    "\n",
    "k_nb = 2 #1-NN\n",
    "pclr_nbrs = NearestNeighbors(n_neighbors=k_nb, algorithm='ball_tree').fit(pclr_reprs)\n",
    "distances, indices = pclr_nbrs.kneighbors(pclr_reprs)\n",
    "\n",
    "indices_labels = np.zeros(np.array(indices).shape)\n",
    "for i in range(len(indices)):\n",
    "    for j in range(k_nb):\n",
    "        indices_labels[i][j] = labels[indices[i][j]]\n",
    "        \n",
    "rmsel = 0\n",
    "for i in range(k_nb):\n",
    "    rmsel += rmse(indices_labels[:, 0], indices_labels[:, i])\n",
    "print(rmsel / k_nb)"
   ]
  },
  {
   "cell_type": "code",
   "execution_count": 44,
   "id": "49e02fbd",
   "metadata": {},
   "outputs": [
    {
     "data": {
      "text/plain": [
       "<bound method PlotAccessor.bar of <pandas.plotting._core.PlotAccessor object at 0x7f352022fad0>>"
      ]
     },
     "execution_count": 44,
     "metadata": {},
     "output_type": "execute_result"
    }
   ],
   "source": [
    "df_tab.plot.bar()"
   ]
  },
  {
   "cell_type": "code",
   "execution_count": null,
   "id": "8ee52264",
   "metadata": {},
   "outputs": [],
   "source": []
  }
 ],
 "metadata": {
  "kernelspec": {
   "display_name": "Python 3 (ipykernel)",
   "language": "python",
   "name": "python3"
  },
  "language_info": {
   "codemirror_mode": {
    "name": "ipython",
    "version": 3
   },
   "file_extension": ".py",
   "mimetype": "text/x-python",
   "name": "python",
   "nbconvert_exporter": "python",
   "pygments_lexer": "ipython3",
   "version": "3.7.11"
  }
 },
 "nbformat": 4,
 "nbformat_minor": 5
}
